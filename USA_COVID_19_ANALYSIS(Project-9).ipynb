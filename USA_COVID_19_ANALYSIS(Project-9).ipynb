{
 "cells": [
  {
   "cell_type": "code",
   "execution_count": 1,
   "metadata": {},
   "outputs": [],
   "source": [
    "import pandas as pd\n",
    "import numpy as np\n",
    "import seaborn as sns\n",
    "import matplotlib.pyplot as plt\n",
    "import sklearn\n",
    "import warnings\n",
    "warnings.filterwarnings(\"ignore\")"
   ]
  },
  {
   "cell_type": "code",
   "execution_count": 2,
   "metadata": {},
   "outputs": [
    {
     "data": {
      "text/html": [
       "<div>\n",
       "<style scoped>\n",
       "    .dataframe tbody tr th:only-of-type {\n",
       "        vertical-align: middle;\n",
       "    }\n",
       "\n",
       "    .dataframe tbody tr th {\n",
       "        vertical-align: top;\n",
       "    }\n",
       "\n",
       "    .dataframe thead th {\n",
       "        text-align: right;\n",
       "    }\n",
       "</style>\n",
       "<table border=\"1\" class=\"dataframe\">\n",
       "  <thead>\n",
       "    <tr style=\"text-align: right;\">\n",
       "      <th></th>\n",
       "      <th>Province_State</th>\n",
       "      <th>Country_Region</th>\n",
       "      <th>Last_Update</th>\n",
       "      <th>Lat</th>\n",
       "      <th>Long_</th>\n",
       "      <th>Confirmed</th>\n",
       "      <th>Deaths</th>\n",
       "      <th>Recovered</th>\n",
       "      <th>Active</th>\n",
       "      <th>FIPS</th>\n",
       "      <th>Incident_Rate</th>\n",
       "      <th>People_Tested</th>\n",
       "      <th>People_Hospitalized</th>\n",
       "      <th>Mortality_Rate</th>\n",
       "      <th>UID</th>\n",
       "      <th>ISO3</th>\n",
       "      <th>Testing_Rate</th>\n",
       "      <th>Hospitalization_Rate</th>\n",
       "    </tr>\n",
       "  </thead>\n",
       "  <tbody>\n",
       "    <tr>\n",
       "      <th>0</th>\n",
       "      <td>Alabama</td>\n",
       "      <td>US</td>\n",
       "      <td>2020-05-21 02:32:54</td>\n",
       "      <td>32.3182</td>\n",
       "      <td>-86.9023</td>\n",
       "      <td>13052</td>\n",
       "      <td>522</td>\n",
       "      <td>NaN</td>\n",
       "      <td>12530.0</td>\n",
       "      <td>1</td>\n",
       "      <td>266.194321</td>\n",
       "      <td>164450.0</td>\n",
       "      <td>1493.0</td>\n",
       "      <td>3.999387</td>\n",
       "      <td>84000001</td>\n",
       "      <td>USA</td>\n",
       "      <td>3353.942386</td>\n",
       "      <td>11.438860</td>\n",
       "    </tr>\n",
       "    <tr>\n",
       "      <th>1</th>\n",
       "      <td>Alaska</td>\n",
       "      <td>US</td>\n",
       "      <td>2020-05-21 02:32:54</td>\n",
       "      <td>61.3707</td>\n",
       "      <td>-152.4044</td>\n",
       "      <td>401</td>\n",
       "      <td>10</td>\n",
       "      <td>352.0</td>\n",
       "      <td>39.0</td>\n",
       "      <td>2</td>\n",
       "      <td>54.815493</td>\n",
       "      <td>37045.0</td>\n",
       "      <td>NaN</td>\n",
       "      <td>2.493766</td>\n",
       "      <td>84000002</td>\n",
       "      <td>USA</td>\n",
       "      <td>5063.940017</td>\n",
       "      <td>NaN</td>\n",
       "    </tr>\n",
       "    <tr>\n",
       "      <th>2</th>\n",
       "      <td>American Samoa</td>\n",
       "      <td>US</td>\n",
       "      <td>2020-05-21 02:32:54</td>\n",
       "      <td>-14.2710</td>\n",
       "      <td>-170.1320</td>\n",
       "      <td>0</td>\n",
       "      <td>0</td>\n",
       "      <td>NaN</td>\n",
       "      <td>0.0</td>\n",
       "      <td>60</td>\n",
       "      <td>0.000000</td>\n",
       "      <td>124.0</td>\n",
       "      <td>NaN</td>\n",
       "      <td>NaN</td>\n",
       "      <td>16</td>\n",
       "      <td>ASM</td>\n",
       "      <td>222.857246</td>\n",
       "      <td>NaN</td>\n",
       "    </tr>\n",
       "    <tr>\n",
       "      <th>3</th>\n",
       "      <td>Arizona</td>\n",
       "      <td>US</td>\n",
       "      <td>2020-05-21 02:32:54</td>\n",
       "      <td>33.7298</td>\n",
       "      <td>-111.4312</td>\n",
       "      <td>14906</td>\n",
       "      <td>747</td>\n",
       "      <td>3773.0</td>\n",
       "      <td>10386.0</td>\n",
       "      <td>4</td>\n",
       "      <td>204.788838</td>\n",
       "      <td>165435.0</td>\n",
       "      <td>1792.0</td>\n",
       "      <td>5.011405</td>\n",
       "      <td>84000004</td>\n",
       "      <td>USA</td>\n",
       "      <td>2272.859351</td>\n",
       "      <td>12.022005</td>\n",
       "    </tr>\n",
       "    <tr>\n",
       "      <th>4</th>\n",
       "      <td>Arkansas</td>\n",
       "      <td>US</td>\n",
       "      <td>2020-05-21 02:32:54</td>\n",
       "      <td>34.9697</td>\n",
       "      <td>-92.3731</td>\n",
       "      <td>5003</td>\n",
       "      <td>107</td>\n",
       "      <td>3852.0</td>\n",
       "      <td>1044.0</td>\n",
       "      <td>5</td>\n",
       "      <td>165.782801</td>\n",
       "      <td>96258.0</td>\n",
       "      <td>535.0</td>\n",
       "      <td>2.138717</td>\n",
       "      <td>84000005</td>\n",
       "      <td>USA</td>\n",
       "      <td>3189.670370</td>\n",
       "      <td>10.693584</td>\n",
       "    </tr>\n",
       "  </tbody>\n",
       "</table>\n",
       "</div>"
      ],
      "text/plain": [
       "   Province_State Country_Region          Last_Update      Lat     Long_  \\\n",
       "0         Alabama             US  2020-05-21 02:32:54  32.3182  -86.9023   \n",
       "1          Alaska             US  2020-05-21 02:32:54  61.3707 -152.4044   \n",
       "2  American Samoa             US  2020-05-21 02:32:54 -14.2710 -170.1320   \n",
       "3         Arizona             US  2020-05-21 02:32:54  33.7298 -111.4312   \n",
       "4        Arkansas             US  2020-05-21 02:32:54  34.9697  -92.3731   \n",
       "\n",
       "   Confirmed  Deaths  Recovered   Active  FIPS  Incident_Rate  People_Tested  \\\n",
       "0      13052     522        NaN  12530.0     1     266.194321       164450.0   \n",
       "1        401      10      352.0     39.0     2      54.815493        37045.0   \n",
       "2          0       0        NaN      0.0    60       0.000000          124.0   \n",
       "3      14906     747     3773.0  10386.0     4     204.788838       165435.0   \n",
       "4       5003     107     3852.0   1044.0     5     165.782801        96258.0   \n",
       "\n",
       "   People_Hospitalized  Mortality_Rate       UID ISO3  Testing_Rate  \\\n",
       "0               1493.0        3.999387  84000001  USA   3353.942386   \n",
       "1                  NaN        2.493766  84000002  USA   5063.940017   \n",
       "2                  NaN             NaN        16  ASM    222.857246   \n",
       "3               1792.0        5.011405  84000004  USA   2272.859351   \n",
       "4                535.0        2.138717  84000005  USA   3189.670370   \n",
       "\n",
       "   Hospitalization_Rate  \n",
       "0             11.438860  \n",
       "1                   NaN  \n",
       "2                   NaN  \n",
       "3             12.022005  \n",
       "4             10.693584  "
      ]
     },
     "execution_count": 2,
     "metadata": {},
     "output_type": "execute_result"
    }
   ],
   "source": [
    "df=pd.read_csv(\"USA_COVID_19.csv\")\n",
    "df.head()"
   ]
  },
  {
   "cell_type": "code",
   "execution_count": 3,
   "metadata": {},
   "outputs": [
    {
     "data": {
      "text/html": [
       "<div>\n",
       "<style scoped>\n",
       "    .dataframe tbody tr th:only-of-type {\n",
       "        vertical-align: middle;\n",
       "    }\n",
       "\n",
       "    .dataframe tbody tr th {\n",
       "        vertical-align: top;\n",
       "    }\n",
       "\n",
       "    .dataframe thead th {\n",
       "        text-align: right;\n",
       "    }\n",
       "</style>\n",
       "<table border=\"1\" class=\"dataframe\">\n",
       "  <thead>\n",
       "    <tr style=\"text-align: right;\">\n",
       "      <th></th>\n",
       "      <th>Province_State</th>\n",
       "      <th>Country_Region</th>\n",
       "      <th>Last_Update</th>\n",
       "      <th>Lat</th>\n",
       "      <th>Long_</th>\n",
       "      <th>Confirmed</th>\n",
       "      <th>Deaths</th>\n",
       "      <th>Recovered</th>\n",
       "      <th>Active</th>\n",
       "      <th>FIPS</th>\n",
       "      <th>Incident_Rate</th>\n",
       "      <th>People_Tested</th>\n",
       "      <th>People_Hospitalized</th>\n",
       "      <th>Mortality_Rate</th>\n",
       "      <th>UID</th>\n",
       "      <th>ISO3</th>\n",
       "      <th>Testing_Rate</th>\n",
       "      <th>Hospitalization_Rate</th>\n",
       "    </tr>\n",
       "  </thead>\n",
       "  <tbody>\n",
       "    <tr>\n",
       "      <th>53</th>\n",
       "      <td>Virginia</td>\n",
       "      <td>US</td>\n",
       "      <td>2020-05-21 02:32:54</td>\n",
       "      <td>37.7693</td>\n",
       "      <td>-78.1700</td>\n",
       "      <td>32908</td>\n",
       "      <td>1075</td>\n",
       "      <td>4523.0</td>\n",
       "      <td>27310.0</td>\n",
       "      <td>51</td>\n",
       "      <td>385.541875</td>\n",
       "      <td>212626.0</td>\n",
       "      <td>6059.0</td>\n",
       "      <td>3.266683</td>\n",
       "      <td>84000051</td>\n",
       "      <td>USA</td>\n",
       "      <td>2491.072892</td>\n",
       "      <td>18.411936</td>\n",
       "    </tr>\n",
       "    <tr>\n",
       "      <th>54</th>\n",
       "      <td>Washington</td>\n",
       "      <td>US</td>\n",
       "      <td>2020-05-21 02:32:54</td>\n",
       "      <td>47.4009</td>\n",
       "      <td>-121.4905</td>\n",
       "      <td>18971</td>\n",
       "      <td>1037</td>\n",
       "      <td>NaN</td>\n",
       "      <td>17934.0</td>\n",
       "      <td>53</td>\n",
       "      <td>249.130224</td>\n",
       "      <td>293120.0</td>\n",
       "      <td>NaN</td>\n",
       "      <td>5.466238</td>\n",
       "      <td>84000053</td>\n",
       "      <td>USA</td>\n",
       "      <td>3849.298999</td>\n",
       "      <td>NaN</td>\n",
       "    </tr>\n",
       "    <tr>\n",
       "      <th>55</th>\n",
       "      <td>West Virginia</td>\n",
       "      <td>US</td>\n",
       "      <td>2020-05-21 02:32:54</td>\n",
       "      <td>38.4912</td>\n",
       "      <td>-80.9545</td>\n",
       "      <td>1567</td>\n",
       "      <td>69</td>\n",
       "      <td>950.0</td>\n",
       "      <td>548.0</td>\n",
       "      <td>54</td>\n",
       "      <td>87.437024</td>\n",
       "      <td>80641.0</td>\n",
       "      <td>NaN</td>\n",
       "      <td>4.403318</td>\n",
       "      <td>84000054</td>\n",
       "      <td>USA</td>\n",
       "      <td>4499.686689</td>\n",
       "      <td>NaN</td>\n",
       "    </tr>\n",
       "    <tr>\n",
       "      <th>56</th>\n",
       "      <td>Wisconsin</td>\n",
       "      <td>US</td>\n",
       "      <td>2020-05-21 02:32:54</td>\n",
       "      <td>44.2685</td>\n",
       "      <td>-89.6165</td>\n",
       "      <td>13413</td>\n",
       "      <td>481</td>\n",
       "      <td>7728.0</td>\n",
       "      <td>5204.0</td>\n",
       "      <td>55</td>\n",
       "      <td>230.367575</td>\n",
       "      <td>167713.0</td>\n",
       "      <td>2161.0</td>\n",
       "      <td>3.586073</td>\n",
       "      <td>84000055</td>\n",
       "      <td>USA</td>\n",
       "      <td>2880.462020</td>\n",
       "      <td>16.111235</td>\n",
       "    </tr>\n",
       "    <tr>\n",
       "      <th>57</th>\n",
       "      <td>Wyoming</td>\n",
       "      <td>US</td>\n",
       "      <td>2020-05-21 02:32:54</td>\n",
       "      <td>42.7560</td>\n",
       "      <td>-107.3025</td>\n",
       "      <td>787</td>\n",
       "      <td>11</td>\n",
       "      <td>528.0</td>\n",
       "      <td>248.0</td>\n",
       "      <td>56</td>\n",
       "      <td>135.980607</td>\n",
       "      <td>18840.0</td>\n",
       "      <td>74.0</td>\n",
       "      <td>1.397713</td>\n",
       "      <td>84000056</td>\n",
       "      <td>USA</td>\n",
       "      <td>3255.240955</td>\n",
       "      <td>9.402795</td>\n",
       "    </tr>\n",
       "  </tbody>\n",
       "</table>\n",
       "</div>"
      ],
      "text/plain": [
       "   Province_State Country_Region          Last_Update      Lat     Long_  \\\n",
       "53       Virginia             US  2020-05-21 02:32:54  37.7693  -78.1700   \n",
       "54     Washington             US  2020-05-21 02:32:54  47.4009 -121.4905   \n",
       "55  West Virginia             US  2020-05-21 02:32:54  38.4912  -80.9545   \n",
       "56      Wisconsin             US  2020-05-21 02:32:54  44.2685  -89.6165   \n",
       "57        Wyoming             US  2020-05-21 02:32:54  42.7560 -107.3025   \n",
       "\n",
       "    Confirmed  Deaths  Recovered   Active  FIPS  Incident_Rate  People_Tested  \\\n",
       "53      32908    1075     4523.0  27310.0    51     385.541875       212626.0   \n",
       "54      18971    1037        NaN  17934.0    53     249.130224       293120.0   \n",
       "55       1567      69      950.0    548.0    54      87.437024        80641.0   \n",
       "56      13413     481     7728.0   5204.0    55     230.367575       167713.0   \n",
       "57        787      11      528.0    248.0    56     135.980607        18840.0   \n",
       "\n",
       "    People_Hospitalized  Mortality_Rate       UID ISO3  Testing_Rate  \\\n",
       "53               6059.0        3.266683  84000051  USA   2491.072892   \n",
       "54                  NaN        5.466238  84000053  USA   3849.298999   \n",
       "55                  NaN        4.403318  84000054  USA   4499.686689   \n",
       "56               2161.0        3.586073  84000055  USA   2880.462020   \n",
       "57                 74.0        1.397713  84000056  USA   3255.240955   \n",
       "\n",
       "    Hospitalization_Rate  \n",
       "53             18.411936  \n",
       "54                   NaN  \n",
       "55                   NaN  \n",
       "56             16.111235  \n",
       "57              9.402795  "
      ]
     },
     "execution_count": 3,
     "metadata": {},
     "output_type": "execute_result"
    }
   ],
   "source": [
    "df.tail()"
   ]
  },
  {
   "cell_type": "code",
   "execution_count": 4,
   "metadata": {},
   "outputs": [
    {
     "data": {
      "text/plain": [
       "(58, 18)"
      ]
     },
     "execution_count": 4,
     "metadata": {},
     "output_type": "execute_result"
    }
   ],
   "source": [
    "df.shape"
   ]
  },
  {
   "cell_type": "code",
   "execution_count": 5,
   "metadata": {},
   "outputs": [
    {
     "data": {
      "text/plain": [
       "Index(['Province_State', 'Country_Region', 'Last_Update', 'Lat', 'Long_',\n",
       "       'Confirmed', 'Deaths', 'Recovered', 'Active', 'FIPS', 'Incident_Rate',\n",
       "       'People_Tested', 'People_Hospitalized', 'Mortality_Rate', 'UID', 'ISO3',\n",
       "       'Testing_Rate', 'Hospitalization_Rate'],\n",
       "      dtype='object')"
      ]
     },
     "execution_count": 5,
     "metadata": {},
     "output_type": "execute_result"
    }
   ],
   "source": [
    "df.columns"
   ]
  },
  {
   "cell_type": "code",
   "execution_count": 6,
   "metadata": {},
   "outputs": [
    {
     "name": "stdout",
     "output_type": "stream",
     "text": [
      "<class 'pandas.core.frame.DataFrame'>\n",
      "RangeIndex: 58 entries, 0 to 57\n",
      "Data columns (total 18 columns):\n",
      " #   Column                Non-Null Count  Dtype  \n",
      "---  ------                --------------  -----  \n",
      " 0   Province_State        58 non-null     object \n",
      " 1   Country_Region        58 non-null     object \n",
      " 2   Last_Update           58 non-null     object \n",
      " 3   Lat                   56 non-null     float64\n",
      " 4   Long_                 56 non-null     float64\n",
      " 5   Confirmed             58 non-null     int64  \n",
      " 6   Deaths                58 non-null     int64  \n",
      " 7   Recovered             42 non-null     float64\n",
      " 8   Active                58 non-null     float64\n",
      " 9   FIPS                  58 non-null     int64  \n",
      " 10  Incident_Rate         56 non-null     float64\n",
      " 11  People_Tested         56 non-null     float64\n",
      " 12  People_Hospitalized   33 non-null     float64\n",
      " 13  Mortality_Rate        57 non-null     float64\n",
      " 14  UID                   58 non-null     int64  \n",
      " 15  ISO3                  58 non-null     object \n",
      " 16  Testing_Rate          56 non-null     float64\n",
      " 17  Hospitalization_Rate  33 non-null     float64\n",
      "dtypes: float64(10), int64(4), object(4)\n",
      "memory usage: 8.3+ KB\n"
     ]
    }
   ],
   "source": [
    "df.info()"
   ]
  },
  {
   "cell_type": "code",
   "execution_count": 7,
   "metadata": {},
   "outputs": [],
   "source": [
    "df=pd.read_csv(\"USA_COVID_19.csv\",parse_dates=['Last_Update'])\n"
   ]
  },
  {
   "cell_type": "code",
   "execution_count": 8,
   "metadata": {},
   "outputs": [
    {
     "name": "stdout",
     "output_type": "stream",
     "text": [
      "<class 'pandas.core.frame.DataFrame'>\n",
      "RangeIndex: 58 entries, 0 to 57\n",
      "Data columns (total 18 columns):\n",
      " #   Column                Non-Null Count  Dtype         \n",
      "---  ------                --------------  -----         \n",
      " 0   Province_State        58 non-null     object        \n",
      " 1   Country_Region        58 non-null     object        \n",
      " 2   Last_Update           58 non-null     datetime64[ns]\n",
      " 3   Lat                   56 non-null     float64       \n",
      " 4   Long_                 56 non-null     float64       \n",
      " 5   Confirmed             58 non-null     int64         \n",
      " 6   Deaths                58 non-null     int64         \n",
      " 7   Recovered             42 non-null     float64       \n",
      " 8   Active                58 non-null     float64       \n",
      " 9   FIPS                  58 non-null     int64         \n",
      " 10  Incident_Rate         56 non-null     float64       \n",
      " 11  People_Tested         56 non-null     float64       \n",
      " 12  People_Hospitalized   33 non-null     float64       \n",
      " 13  Mortality_Rate        57 non-null     float64       \n",
      " 14  UID                   58 non-null     int64         \n",
      " 15  ISO3                  58 non-null     object        \n",
      " 16  Testing_Rate          56 non-null     float64       \n",
      " 17  Hospitalization_Rate  33 non-null     float64       \n",
      "dtypes: datetime64[ns](1), float64(10), int64(4), object(3)\n",
      "memory usage: 8.3+ KB\n"
     ]
    }
   ],
   "source": [
    "df.info()"
   ]
  },
  {
   "cell_type": "code",
   "execution_count": 9,
   "metadata": {},
   "outputs": [
    {
     "data": {
      "text/plain": [
       "Province_State           0\n",
       "Country_Region           0\n",
       "Last_Update              0\n",
       "Lat                      2\n",
       "Long_                    2\n",
       "Confirmed                0\n",
       "Deaths                   0\n",
       "Recovered               16\n",
       "Active                   0\n",
       "FIPS                     0\n",
       "Incident_Rate            2\n",
       "People_Tested            2\n",
       "People_Hospitalized     25\n",
       "Mortality_Rate           1\n",
       "UID                      0\n",
       "ISO3                     0\n",
       "Testing_Rate             2\n",
       "Hospitalization_Rate    25\n",
       "dtype: int64"
      ]
     },
     "execution_count": 9,
     "metadata": {},
     "output_type": "execute_result"
    }
   ],
   "source": [
    "df.isnull().sum()"
   ]
  },
  {
   "cell_type": "code",
   "execution_count": 10,
   "metadata": {},
   "outputs": [
    {
     "data": {
      "text/plain": [
       "<matplotlib.axes._subplots.AxesSubplot at 0x16f8df7cdc8>"
      ]
     },
     "execution_count": 10,
     "metadata": {},
     "output_type": "execute_result"
    },
    {
     "data": {
      "image/png": "[encoded data removed]",
      "text/plain": [
       "<Figure size 432x288 with 2 Axes>"
      ]
     },
     "metadata": {
      "needs_background": "light"
     },
     "output_type": "display_data"
    }
   ],
   "source": [
    "sns.heatmap(df.isnull())"
   ]
  },
  {
   "cell_type": "code",
   "execution_count": 11,
   "metadata": {},
   "outputs": [],
   "source": [
    "# Missing Values are present."
   ]
  },
  {
   "cell_type": "code",
   "execution_count": 12,
   "metadata": {},
   "outputs": [
    {
     "data": {
      "text/plain": [
       "Indiana                     1\n",
       "Washington                  1\n",
       "Virginia                    1\n",
       "New Mexico                  1\n",
       "Massachusetts               1\n",
       "Arizona                     1\n",
       "Missouri                    1\n",
       "Kentucky                    1\n",
       "Georgia                     1\n",
       "Louisiana                   1\n",
       "Michigan                    1\n",
       "Oregon                      1\n",
       "Montana                     1\n",
       "District of Columbia        1\n",
       "Texas                       1\n",
       "Oklahoma                    1\n",
       "Alabama                     1\n",
       "Grand Princess              1\n",
       "Connecticut                 1\n",
       "Maryland                    1\n",
       "Pennsylvania                1\n",
       "Idaho                       1\n",
       "Illinois                    1\n",
       "Nevada                      1\n",
       "Maine                       1\n",
       "Tennessee                   1\n",
       "Delaware                    1\n",
       "California                  1\n",
       "Rhode Island                1\n",
       "New Jersey                  1\n",
       "New Hampshire               1\n",
       "South Carolina              1\n",
       "Vermont                     1\n",
       "Kansas                      1\n",
       "Arkansas                    1\n",
       "Florida                     1\n",
       "Colorado                    1\n",
       "West Virginia               1\n",
       "South Dakota                1\n",
       "Utah                        1\n",
       "Guam                        1\n",
       "Wisconsin                   1\n",
       "Puerto Rico                 1\n",
       "Virgin Islands              1\n",
       "Wyoming                     1\n",
       "Mississippi                 1\n",
       "North Dakota                1\n",
       "Diamond Princess            1\n",
       "Minnesota                   1\n",
       "Nebraska                    1\n",
       "Iowa                        1\n",
       "Hawaii                      1\n",
       "Alaska                      1\n",
       "North Carolina              1\n",
       "Northern Mariana Islands    1\n",
       "American Samoa              1\n",
       "Ohio                        1\n",
       "New York                    1\n",
       "Name: Province_State, dtype: int64"
      ]
     },
     "execution_count": 12,
     "metadata": {},
     "output_type": "execute_result"
    }
   ],
   "source": [
    "df['Province_State'].value_counts()"
   ]
  },
  {
   "cell_type": "code",
   "execution_count": 13,
   "metadata": {},
   "outputs": [
    {
     "data": {
      "text/plain": [
       "array(['US'], dtype=object)"
      ]
     },
     "execution_count": 13,
     "metadata": {},
     "output_type": "execute_result"
    }
   ],
   "source": [
    "df['Country_Region'].unique()"
   ]
  },
  {
   "cell_type": "code",
   "execution_count": 14,
   "metadata": {},
   "outputs": [
    {
     "data": {
      "text/plain": [
       "array(['2020-05-21T02:32:54.000000000'], dtype='datetime64[ns]')"
      ]
     },
     "execution_count": 14,
     "metadata": {},
     "output_type": "execute_result"
    }
   ],
   "source": [
    "df['Last_Update'].unique()"
   ]
  },
  {
   "cell_type": "code",
   "execution_count": 15,
   "metadata": {},
   "outputs": [
    {
     "data": {
      "text/plain": [
       "2020-05-21 02:32:54    58\n",
       "Name: Last_Update, dtype: int64"
      ]
     },
     "execution_count": 15,
     "metadata": {},
     "output_type": "execute_result"
    }
   ],
   "source": [
    "df['Last_Update'].value_counts()"
   ]
  },
  {
   "cell_type": "code",
   "execution_count": 16,
   "metadata": {},
   "outputs": [
    {
     "data": {
      "text/plain": [
       "array(['USA', 'ASM', 'GUM', 'MNP', 'PRI', 'VIR'], dtype=object)"
      ]
     },
     "execution_count": 16,
     "metadata": {},
     "output_type": "execute_result"
    }
   ],
   "source": [
    "df['ISO3'].unique()"
   ]
  },
  {
   "cell_type": "code",
   "execution_count": 17,
   "metadata": {},
   "outputs": [
    {
     "data": {
      "text/plain": [
       "USA    53\n",
       "PRI     1\n",
       "ASM     1\n",
       "VIR     1\n",
       "GUM     1\n",
       "MNP     1\n",
       "Name: ISO3, dtype: int64"
      ]
     },
     "execution_count": 17,
     "metadata": {},
     "output_type": "execute_result"
    }
   ],
   "source": [
    "df['ISO3'].value_counts()"
   ]
  },
  {
   "cell_type": "code",
   "execution_count": 18,
   "metadata": {},
   "outputs": [
    {
     "data": {
      "text/html": [
       "<div>\n",
       "<style scoped>\n",
       "    .dataframe tbody tr th:only-of-type {\n",
       "        vertical-align: middle;\n",
       "    }\n",
       "\n",
       "    .dataframe tbody tr th {\n",
       "        vertical-align: top;\n",
       "    }\n",
       "\n",
       "    .dataframe thead th {\n",
       "        text-align: right;\n",
       "    }\n",
       "</style>\n",
       "<table border=\"1\" class=\"dataframe\">\n",
       "  <thead>\n",
       "    <tr style=\"text-align: right;\">\n",
       "      <th></th>\n",
       "      <th>Province_State</th>\n",
       "      <th>Country_Region</th>\n",
       "      <th>ISO3</th>\n",
       "    </tr>\n",
       "  </thead>\n",
       "  <tbody>\n",
       "    <tr>\n",
       "      <th>count</th>\n",
       "      <td>58</td>\n",
       "      <td>58</td>\n",
       "      <td>58</td>\n",
       "    </tr>\n",
       "    <tr>\n",
       "      <th>unique</th>\n",
       "      <td>58</td>\n",
       "      <td>1</td>\n",
       "      <td>6</td>\n",
       "    </tr>\n",
       "    <tr>\n",
       "      <th>top</th>\n",
       "      <td>Indiana</td>\n",
       "      <td>US</td>\n",
       "      <td>USA</td>\n",
       "    </tr>\n",
       "    <tr>\n",
       "      <th>freq</th>\n",
       "      <td>1</td>\n",
       "      <td>58</td>\n",
       "      <td>53</td>\n",
       "    </tr>\n",
       "  </tbody>\n",
       "</table>\n",
       "</div>"
      ],
      "text/plain": [
       "       Province_State Country_Region ISO3\n",
       "count              58             58   58\n",
       "unique             58              1    6\n",
       "top           Indiana             US  USA\n",
       "freq                1             58   53"
      ]
     },
     "execution_count": 18,
     "metadata": {},
     "output_type": "execute_result"
    }
   ],
   "source": [
    "#Discription of categorical columns\n",
    "df.describe(include='O')"
   ]
  },
  {
   "cell_type": "code",
   "execution_count": 19,
   "metadata": {},
   "outputs": [
    {
     "data": {
      "text/html": [
       "<div>\n",
       "<style scoped>\n",
       "    .dataframe tbody tr th:only-of-type {\n",
       "        vertical-align: middle;\n",
       "    }\n",
       "\n",
       "    .dataframe tbody tr th {\n",
       "        vertical-align: top;\n",
       "    }\n",
       "\n",
       "    .dataframe thead th {\n",
       "        text-align: right;\n",
       "    }\n",
       "</style>\n",
       "<table border=\"1\" class=\"dataframe\">\n",
       "  <thead>\n",
       "    <tr style=\"text-align: right;\">\n",
       "      <th></th>\n",
       "      <th>Lat</th>\n",
       "      <th>Long_</th>\n",
       "      <th>Confirmed</th>\n",
       "      <th>Deaths</th>\n",
       "      <th>Recovered</th>\n",
       "      <th>Active</th>\n",
       "      <th>FIPS</th>\n",
       "      <th>Incident_Rate</th>\n",
       "      <th>People_Tested</th>\n",
       "      <th>People_Hospitalized</th>\n",
       "      <th>Mortality_Rate</th>\n",
       "      <th>UID</th>\n",
       "      <th>Testing_Rate</th>\n",
       "      <th>Hospitalization_Rate</th>\n",
       "    </tr>\n",
       "  </thead>\n",
       "  <tbody>\n",
       "    <tr>\n",
       "      <th>count</th>\n",
       "      <td>56.000000</td>\n",
       "      <td>56.000000</td>\n",
       "      <td>58.000000</td>\n",
       "      <td>58.000000</td>\n",
       "      <td>42.000000</td>\n",
       "      <td>58.000000</td>\n",
       "      <td>58.000000</td>\n",
       "      <td>56.000000</td>\n",
       "      <td>5.600000e+01</td>\n",
       "      <td>33.000000</td>\n",
       "      <td>57.000000</td>\n",
       "      <td>5.800000e+01</td>\n",
       "      <td>56.000000</td>\n",
       "      <td>33.000000</td>\n",
       "    </tr>\n",
       "    <tr>\n",
       "      <th>mean</th>\n",
       "      <td>36.840089</td>\n",
       "      <td>-85.206614</td>\n",
       "      <td>26756.086207</td>\n",
       "      <td>1611.017241</td>\n",
       "      <td>7007.428571</td>\n",
       "      <td>20070.724138</td>\n",
       "      <td>3288.086207</td>\n",
       "      <td>396.230806</td>\n",
       "      <td>2.258534e+05</td>\n",
       "      <td>4897.454545</td>\n",
       "      <td>4.458248</td>\n",
       "      <td>7.676194e+07</td>\n",
       "      <td>3894.186870</td>\n",
       "      <td>14.342541</td>\n",
       "    </tr>\n",
       "    <tr>\n",
       "      <th>std</th>\n",
       "      <td>10.887035</td>\n",
       "      <td>49.754449</td>\n",
       "      <td>52562.031122</td>\n",
       "      <td>4084.750891</td>\n",
       "      <td>11674.490020</td>\n",
       "      <td>41294.705318</td>\n",
       "      <td>17408.350591</td>\n",
       "      <td>402.682539</td>\n",
       "      <td>2.987834e+05</td>\n",
       "      <td>13185.628145</td>\n",
       "      <td>2.135002</td>\n",
       "      <td>2.378302e+07</td>\n",
       "      <td>1933.169297</td>\n",
       "      <td>5.047403</td>\n",
       "    </tr>\n",
       "    <tr>\n",
       "      <th>min</th>\n",
       "      <td>-14.271000</td>\n",
       "      <td>-170.132000</td>\n",
       "      <td>0.000000</td>\n",
       "      <td>0.000000</td>\n",
       "      <td>13.000000</td>\n",
       "      <td>0.000000</td>\n",
       "      <td>1.000000</td>\n",
       "      <td>0.000000</td>\n",
       "      <td>1.240000e+02</td>\n",
       "      <td>65.000000</td>\n",
       "      <td>0.000000</td>\n",
       "      <td>1.600000e+01</td>\n",
       "      <td>97.702058</td>\n",
       "      <td>6.778043</td>\n",
       "    </tr>\n",
       "    <tr>\n",
       "      <th>25%</th>\n",
       "      <td>34.594600</td>\n",
       "      <td>-101.165775</td>\n",
       "      <td>2596.000000</td>\n",
       "      <td>74.000000</td>\n",
       "      <td>970.000000</td>\n",
       "      <td>812.500000</td>\n",
       "      <td>18.250000</td>\n",
       "      <td>148.521021</td>\n",
       "      <td>4.608100e+04</td>\n",
       "      <td>535.000000</td>\n",
       "      <td>3.072626</td>\n",
       "      <td>8.400001e+07</td>\n",
       "      <td>2712.800274</td>\n",
       "      <td>10.000000</td>\n",
       "    </tr>\n",
       "    <tr>\n",
       "      <th>50%</th>\n",
       "      <td>39.061850</td>\n",
       "      <td>-87.944200</td>\n",
       "      <td>10148.500000</td>\n",
       "      <td>385.000000</td>\n",
       "      <td>3008.000000</td>\n",
       "      <td>5644.500000</td>\n",
       "      <td>32.500000</td>\n",
       "      <td>250.477287</td>\n",
       "      <td>1.386545e+05</td>\n",
       "      <td>1493.000000</td>\n",
       "      <td>4.403318</td>\n",
       "      <td>8.400003e+07</td>\n",
       "      <td>3469.782532</td>\n",
       "      <td>13.598326</td>\n",
       "    </tr>\n",
       "    <tr>\n",
       "      <th>75%</th>\n",
       "      <td>42.361650</td>\n",
       "      <td>-76.970625</td>\n",
       "      <td>29395.500000</td>\n",
       "      <td>1394.250000</td>\n",
       "      <td>7326.750000</td>\n",
       "      <td>19291.250000</td>\n",
       "      <td>47.750000</td>\n",
       "      <td>477.888542</td>\n",
       "      <td>2.796948e+05</td>\n",
       "      <td>4389.000000</td>\n",
       "      <td>5.466238</td>\n",
       "      <td>8.400004e+07</td>\n",
       "      <td>4763.649736</td>\n",
       "      <td>17.658649</td>\n",
       "    </tr>\n",
       "    <tr>\n",
       "      <th>max</th>\n",
       "      <td>61.370700</td>\n",
       "      <td>145.673900</td>\n",
       "      <td>354370.000000</td>\n",
       "      <td>28636.000000</td>\n",
       "      <td>61886.000000</td>\n",
       "      <td>263848.000000</td>\n",
       "      <td>99999.000000</td>\n",
       "      <td>1821.620216</td>\n",
       "      <td>1.505836e+06</td>\n",
       "      <td>76410.000000</td>\n",
       "      <td>9.545549</td>\n",
       "      <td>8.410000e+07</td>\n",
       "      <td>11377.424693</td>\n",
       "      <td>28.054438</td>\n",
       "    </tr>\n",
       "  </tbody>\n",
       "</table>\n",
       "</div>"
      ],
      "text/plain": [
       "             Lat       Long_      Confirmed        Deaths     Recovered  \\\n",
       "count  56.000000   56.000000      58.000000     58.000000     42.000000   \n",
       "mean   36.840089  -85.206614   26756.086207   1611.017241   7007.428571   \n",
       "std    10.887035   49.754449   52562.031122   4084.750891  11674.490020   \n",
       "min   -14.271000 -170.132000       0.000000      0.000000     13.000000   \n",
       "25%    34.594600 -101.165775    2596.000000     74.000000    970.000000   \n",
       "50%    39.061850  -87.944200   10148.500000    385.000000   3008.000000   \n",
       "75%    42.361650  -76.970625   29395.500000   1394.250000   7326.750000   \n",
       "max    61.370700  145.673900  354370.000000  28636.000000  61886.000000   \n",
       "\n",
       "              Active          FIPS  Incident_Rate  People_Tested  \\\n",
       "count      58.000000     58.000000      56.000000   5.600000e+01   \n",
       "mean    20070.724138   3288.086207     396.230806   2.258534e+05   \n",
       "std     41294.705318  17408.350591     402.682539   2.987834e+05   \n",
       "min         0.000000      1.000000       0.000000   1.240000e+02   \n",
       "25%       812.500000     18.250000     148.521021   4.608100e+04   \n",
       "50%      5644.500000     32.500000     250.477287   1.386545e+05   \n",
       "75%     19291.250000     47.750000     477.888542   2.796948e+05   \n",
       "max    263848.000000  99999.000000    1821.620216   1.505836e+06   \n",
       "\n",
       "       People_Hospitalized  Mortality_Rate           UID  Testing_Rate  \\\n",
       "count            33.000000       57.000000  5.800000e+01     56.000000   \n",
       "mean           4897.454545        4.458248  7.676194e+07   3894.186870   \n",
       "std           13185.628145        2.135002  2.378302e+07   1933.169297   \n",
       "min              65.000000        0.000000  1.600000e+01     97.702058   \n",
       "25%             535.000000        3.072626  8.400001e+07   2712.800274   \n",
       "50%            1493.000000        4.403318  8.400003e+07   3469.782532   \n",
       "75%            4389.000000        5.466238  8.400004e+07   4763.649736   \n",
       "max           76410.000000        9.545549  8.410000e+07  11377.424693   \n",
       "\n",
       "       Hospitalization_Rate  \n",
       "count             33.000000  \n",
       "mean              14.342541  \n",
       "std                5.047403  \n",
       "min                6.778043  \n",
       "25%               10.000000  \n",
       "50%               13.598326  \n",
       "75%               17.658649  \n",
       "max               28.054438  "
      ]
     },
     "execution_count": 19,
     "metadata": {},
     "output_type": "execute_result"
    }
   ],
   "source": [
    "df.describe()"
   ]
  },
  {
   "cell_type": "code",
   "execution_count": 20,
   "metadata": {},
   "outputs": [
    {
     "data": {
      "text/plain": [
       "<seaborn.axisgrid.FacetGrid at 0x16f8e1aa508>"
      ]
     },
     "execution_count": 20,
     "metadata": {},
     "output_type": "execute_result"
    },
    {
     "data": {
      "image/png": "[encoded data removed]",
      "text/plain": [
       "<Figure size 360x360 with 1 Axes>"
      ]
     },
     "metadata": {
      "needs_background": "light"
     },
     "output_type": "display_data"
    }
   ],
   "source": [
    "sns.relplot(x='Confirmed',y='Recovered',data=df)"
   ]
  },
  {
   "cell_type": "code",
   "execution_count": 21,
   "metadata": {},
   "outputs": [
    {
     "data": {
      "text/plain": [
       "<seaborn.axisgrid.FacetGrid at 0x16f8e238348>"
      ]
     },
     "execution_count": 21,
     "metadata": {},
     "output_type": "execute_result"
    },
    {
     "data": {
      "image/png": "[encoded data removed]",
      "text/plain": [
       "<Figure size 360x360 with 1 Axes>"
      ]
     },
     "metadata": {
      "needs_background": "light"
     },
     "output_type": "display_data"
    }
   ],
   "source": [
    "sns.relplot(x='Confirmed',y='Deaths',data=df)"
   ]
  },
  {
   "cell_type": "code",
   "execution_count": 22,
   "metadata": {},
   "outputs": [
    {
     "data": {
      "text/plain": [
       "<seaborn.axisgrid.FacetGrid at 0x16f8e29de48>"
      ]
     },
     "execution_count": 22,
     "metadata": {},
     "output_type": "execute_result"
    },
    {
     "data": {
      "image/png": "[encoded data removed]",
      "text/plain": [
       "<Figure size 360x360 with 1 Axes>"
      ]
     },
     "metadata": {
      "needs_background": "light"
     },
     "output_type": "display_data"
    }
   ],
   "source": [
    "sns.relplot(x='Confirmed',y='People_Tested',data=df)"
   ]
  },
  {
   "cell_type": "code",
   "execution_count": 23,
   "metadata": {},
   "outputs": [
    {
     "data": {
      "text/plain": [
       "<matplotlib.axes._subplots.AxesSubplot at 0x16f8e2aac88>"
      ]
     },
     "execution_count": 23,
     "metadata": {},
     "output_type": "execute_result"
    },
    {
     "data": {
      "image/png": "[encoded data removed]",
      "text/plain": [
       "<Figure size 432x288 with 1 Axes>"
      ]
     },
     "metadata": {
      "needs_background": "light"
     },
     "output_type": "display_data"
    }
   ],
   "source": [
    "# Scatter Plot Between people_tested and confirmed cases\n",
    "sns.scatterplot(x='People_Tested',y='Confirmed',data=df)"
   ]
  },
  {
   "cell_type": "raw",
   "metadata": {},
   "source": [
    "as people tested the confirmed cases are increased"
   ]
  },
  {
   "cell_type": "code",
   "execution_count": 24,
   "metadata": {},
   "outputs": [
    {
     "data": {
      "text/plain": [
       "<matplotlib.axes._subplots.AxesSubplot at 0x16f8e38f448>"
      ]
     },
     "execution_count": 24,
     "metadata": {},
     "output_type": "execute_result"
    },
    {
     "data": {
      "image/png": "[encoded data removed]",
      "text/plain": [
       "<Figure size 432x288 with 1 Axes>"
      ]
     },
     "metadata": {
      "needs_background": "light"
     },
     "output_type": "display_data"
    }
   ],
   "source": [
    "sns.scatterplot(x='People_Tested',y='Confirmed',hue=\"Recovered\",data=df)"
   ]
  },
  {
   "cell_type": "code",
   "execution_count": 25,
   "metadata": {},
   "outputs": [
    {
     "data": {
      "text/plain": [
       "<matplotlib.axes._subplots.AxesSubplot at 0x16f8e4353c8>"
      ]
     },
     "execution_count": 25,
     "metadata": {},
     "output_type": "execute_result"
    },
    {
     "data": {
      "image/png": "[encoded data removed]",
      "text/plain": [
       "<Figure size 432x288 with 1 Axes>"
      ]
     },
     "metadata": {
      "needs_background": "light"
     },
     "output_type": "display_data"
    }
   ],
   "source": [
    "sns.scatterplot(x='People_Tested',y='Confirmed',hue=\"Deaths\",data=df)"
   ]
  },
  {
   "cell_type": "code",
   "execution_count": 26,
   "metadata": {},
   "outputs": [
    {
     "data": {
      "text/plain": [
       "(array([-200000.,       0.,  200000.,  400000.,  600000.,  800000.,\n",
       "        1000000., 1200000., 1400000., 1600000.]),\n",
       " <a list of 10 Text xticklabel objects>)"
      ]
     },
     "execution_count": 26,
     "metadata": {},
     "output_type": "execute_result"
    },
    {
     "data": {
      "image/png": "[encoded data removed]",
      "text/plain": [
       "<Figure size 432x288 with 1 Axes>"
      ]
     },
     "metadata": {
      "needs_background": "light"
     },
     "output_type": "display_data"
    }
   ],
   "source": [
    "sns.scatterplot(x='People_Tested',y='Confirmed',hue=\"Active\",data=df)\n",
    "plt.xticks(rotation=90)"
   ]
  },
  {
   "cell_type": "code",
   "execution_count": 27,
   "metadata": {},
   "outputs": [
    {
     "data": {
      "text/plain": [
       "<Figure size 1080x720 with 0 Axes>"
      ]
     },
     "metadata": {},
     "output_type": "display_data"
    },
    {
     "data": {
      "image/png": "[encoded data removed]",
      "text/plain": [
       "<Figure size 360x360 with 1 Axes>"
      ]
     },
     "metadata": {
      "needs_background": "light"
     },
     "output_type": "display_data"
    }
   ],
   "source": [
    "plt.figure(figsize=(15,10))\n",
    "sns.catplot(y='People_Tested',x='People_Hospitalized',data=df)\n",
    "plt.xticks(rotation=90)\n",
    "plt.show()"
   ]
  },
  {
   "cell_type": "code",
   "execution_count": 28,
   "metadata": {},
   "outputs": [
    {
     "data": {
      "text/plain": [
       "<Figure size 720x576 with 0 Axes>"
      ]
     },
     "metadata": {},
     "output_type": "display_data"
    },
    {
     "data": {
      "image/png": "[encoded data removed]",
      "text/plain": [
       "<Figure size 360x360 with 1 Axes>"
      ]
     },
     "metadata": {
      "needs_background": "light"
     },
     "output_type": "display_data"
    }
   ],
   "source": [
    "plt.figure(figsize=(10,8))\n",
    "sns.catplot(x='People_Hospitalized',y='Testing_Rate',kind=\"bar\",data=df)\n",
    "plt.xticks(rotation=90)\n",
    "plt.show()"
   ]
  },
  {
   "cell_type": "code",
   "execution_count": 29,
   "metadata": {},
   "outputs": [
    {
     "data": {
      "text/html": [
       "<div>\n",
       "<style scoped>\n",
       "    .dataframe tbody tr th:only-of-type {\n",
       "        vertical-align: middle;\n",
       "    }\n",
       "\n",
       "    .dataframe tbody tr th {\n",
       "        vertical-align: top;\n",
       "    }\n",
       "\n",
       "    .dataframe thead th {\n",
       "        text-align: right;\n",
       "    }\n",
       "</style>\n",
       "<table border=\"1\" class=\"dataframe\">\n",
       "  <thead>\n",
       "    <tr style=\"text-align: right;\">\n",
       "      <th></th>\n",
       "      <th>Lat</th>\n",
       "      <th>Long_</th>\n",
       "      <th>Confirmed</th>\n",
       "      <th>Deaths</th>\n",
       "      <th>Recovered</th>\n",
       "      <th>Active</th>\n",
       "      <th>FIPS</th>\n",
       "      <th>Incident_Rate</th>\n",
       "      <th>People_Tested</th>\n",
       "      <th>People_Hospitalized</th>\n",
       "      <th>Mortality_Rate</th>\n",
       "      <th>UID</th>\n",
       "      <th>Testing_Rate</th>\n",
       "      <th>Hospitalization_Rate</th>\n",
       "    </tr>\n",
       "  </thead>\n",
       "  <tbody>\n",
       "    <tr>\n",
       "      <th>Lat</th>\n",
       "      <td>1.000000</td>\n",
       "      <td>-0.278274</td>\n",
       "      <td>0.120959</td>\n",
       "      <td>0.120024</td>\n",
       "      <td>0.043318</td>\n",
       "      <td>0.120148</td>\n",
       "      <td>-0.374943</td>\n",
       "      <td>0.245693</td>\n",
       "      <td>0.084769</td>\n",
       "      <td>0.065030</td>\n",
       "      <td>-0.189675</td>\n",
       "      <td>0.774106</td>\n",
       "      <td>0.309579</td>\n",
       "      <td>-0.162856</td>\n",
       "    </tr>\n",
       "    <tr>\n",
       "      <th>Long_</th>\n",
       "      <td>-0.278274</td>\n",
       "      <td>1.000000</td>\n",
       "      <td>0.009998</td>\n",
       "      <td>0.028772</td>\n",
       "      <td>-0.043379</td>\n",
       "      <td>0.011654</td>\n",
       "      <td>0.367911</td>\n",
       "      <td>0.041318</td>\n",
       "      <td>-0.077781</td>\n",
       "      <td>0.280909</td>\n",
       "      <td>0.318569</td>\n",
       "      <td>-0.526908</td>\n",
       "      <td>0.190191</td>\n",
       "      <td>0.251661</td>\n",
       "    </tr>\n",
       "    <tr>\n",
       "      <th>Confirmed</th>\n",
       "      <td>0.120959</td>\n",
       "      <td>0.009998</td>\n",
       "      <td>1.000000</td>\n",
       "      <td>0.982191</td>\n",
       "      <td>0.876856</td>\n",
       "      <td>0.985218</td>\n",
       "      <td>-0.096696</td>\n",
       "      <td>0.711776</td>\n",
       "      <td>0.828022</td>\n",
       "      <td>0.989936</td>\n",
       "      <td>0.383425</td>\n",
       "      <td>0.153972</td>\n",
       "      <td>0.334032</td>\n",
       "      <td>0.327376</td>\n",
       "    </tr>\n",
       "    <tr>\n",
       "      <th>Deaths</th>\n",
       "      <td>0.120024</td>\n",
       "      <td>0.028772</td>\n",
       "      <td>0.982191</td>\n",
       "      <td>1.000000</td>\n",
       "      <td>0.856295</td>\n",
       "      <td>0.954378</td>\n",
       "      <td>-0.075053</td>\n",
       "      <td>0.712117</td>\n",
       "      <td>0.741730</td>\n",
       "      <td>0.992313</td>\n",
       "      <td>0.427721</td>\n",
       "      <td>0.120043</td>\n",
       "      <td>0.345441</td>\n",
       "      <td>0.325817</td>\n",
       "    </tr>\n",
       "    <tr>\n",
       "      <th>Recovered</th>\n",
       "      <td>0.043318</td>\n",
       "      <td>-0.043379</td>\n",
       "      <td>0.876856</td>\n",
       "      <td>0.856295</td>\n",
       "      <td>1.000000</td>\n",
       "      <td>0.809437</td>\n",
       "      <td>-0.013571</td>\n",
       "      <td>0.592014</td>\n",
       "      <td>0.950785</td>\n",
       "      <td>0.962082</td>\n",
       "      <td>0.362330</td>\n",
       "      <td>0.166898</td>\n",
       "      <td>0.252155</td>\n",
       "      <td>0.302197</td>\n",
       "    </tr>\n",
       "    <tr>\n",
       "      <th>Active</th>\n",
       "      <td>0.120148</td>\n",
       "      <td>0.011654</td>\n",
       "      <td>0.985218</td>\n",
       "      <td>0.954378</td>\n",
       "      <td>0.809437</td>\n",
       "      <td>1.000000</td>\n",
       "      <td>-0.092276</td>\n",
       "      <td>0.703931</td>\n",
       "      <td>0.829687</td>\n",
       "      <td>0.976456</td>\n",
       "      <td>0.368403</td>\n",
       "      <td>0.146354</td>\n",
       "      <td>0.322773</td>\n",
       "      <td>0.332398</td>\n",
       "    </tr>\n",
       "    <tr>\n",
       "      <th>FIPS</th>\n",
       "      <td>-0.374943</td>\n",
       "      <td>0.367911</td>\n",
       "      <td>-0.096696</td>\n",
       "      <td>-0.075053</td>\n",
       "      <td>-0.013571</td>\n",
       "      <td>-0.092276</td>\n",
       "      <td>1.000000</td>\n",
       "      <td>-0.220264</td>\n",
       "      <td>-0.194011</td>\n",
       "      <td>0.013433</td>\n",
       "      <td>-0.262258</td>\n",
       "      <td>0.058022</td>\n",
       "      <td>-0.092705</td>\n",
       "      <td>-0.172665</td>\n",
       "    </tr>\n",
       "    <tr>\n",
       "      <th>Incident_Rate</th>\n",
       "      <td>0.245693</td>\n",
       "      <td>0.041318</td>\n",
       "      <td>0.711776</td>\n",
       "      <td>0.712117</td>\n",
       "      <td>0.592014</td>\n",
       "      <td>0.703931</td>\n",
       "      <td>-0.220264</td>\n",
       "      <td>1.000000</td>\n",
       "      <td>0.441669</td>\n",
       "      <td>0.725370</td>\n",
       "      <td>0.373338</td>\n",
       "      <td>0.264768</td>\n",
       "      <td>0.620621</td>\n",
       "      <td>0.258029</td>\n",
       "    </tr>\n",
       "    <tr>\n",
       "      <th>People_Tested</th>\n",
       "      <td>0.084769</td>\n",
       "      <td>-0.077781</td>\n",
       "      <td>0.828022</td>\n",
       "      <td>0.741730</td>\n",
       "      <td>0.950785</td>\n",
       "      <td>0.829687</td>\n",
       "      <td>-0.194011</td>\n",
       "      <td>0.441669</td>\n",
       "      <td>1.000000</td>\n",
       "      <td>0.906210</td>\n",
       "      <td>0.231301</td>\n",
       "      <td>0.236043</td>\n",
       "      <td>0.230753</td>\n",
       "      <td>0.356618</td>\n",
       "    </tr>\n",
       "    <tr>\n",
       "      <th>People_Hospitalized</th>\n",
       "      <td>0.065030</td>\n",
       "      <td>0.280909</td>\n",
       "      <td>0.989936</td>\n",
       "      <td>0.992313</td>\n",
       "      <td>0.962082</td>\n",
       "      <td>0.976456</td>\n",
       "      <td>0.013433</td>\n",
       "      <td>0.725370</td>\n",
       "      <td>0.906210</td>\n",
       "      <td>1.000000</td>\n",
       "      <td>0.509658</td>\n",
       "      <td>0.013433</td>\n",
       "      <td>0.331753</td>\n",
       "      <td>0.377586</td>\n",
       "    </tr>\n",
       "    <tr>\n",
       "      <th>Mortality_Rate</th>\n",
       "      <td>-0.189675</td>\n",
       "      <td>0.318569</td>\n",
       "      <td>0.383425</td>\n",
       "      <td>0.427721</td>\n",
       "      <td>0.362330</td>\n",
       "      <td>0.368403</td>\n",
       "      <td>-0.262258</td>\n",
       "      <td>0.373338</td>\n",
       "      <td>0.231301</td>\n",
       "      <td>0.509658</td>\n",
       "      <td>1.000000</td>\n",
       "      <td>-0.259667</td>\n",
       "      <td>0.170587</td>\n",
       "      <td>0.687832</td>\n",
       "    </tr>\n",
       "    <tr>\n",
       "      <th>UID</th>\n",
       "      <td>0.774106</td>\n",
       "      <td>-0.526908</td>\n",
       "      <td>0.153972</td>\n",
       "      <td>0.120043</td>\n",
       "      <td>0.166898</td>\n",
       "      <td>0.146354</td>\n",
       "      <td>0.058022</td>\n",
       "      <td>0.264768</td>\n",
       "      <td>0.236043</td>\n",
       "      <td>0.013433</td>\n",
       "      <td>-0.259667</td>\n",
       "      <td>1.000000</td>\n",
       "      <td>0.258609</td>\n",
       "      <td>-0.172665</td>\n",
       "    </tr>\n",
       "    <tr>\n",
       "      <th>Testing_Rate</th>\n",
       "      <td>0.309579</td>\n",
       "      <td>0.190191</td>\n",
       "      <td>0.334032</td>\n",
       "      <td>0.345441</td>\n",
       "      <td>0.252155</td>\n",
       "      <td>0.322773</td>\n",
       "      <td>-0.092705</td>\n",
       "      <td>0.620621</td>\n",
       "      <td>0.230753</td>\n",
       "      <td>0.331753</td>\n",
       "      <td>0.170587</td>\n",
       "      <td>0.258609</td>\n",
       "      <td>1.000000</td>\n",
       "      <td>-0.071766</td>\n",
       "    </tr>\n",
       "    <tr>\n",
       "      <th>Hospitalization_Rate</th>\n",
       "      <td>-0.162856</td>\n",
       "      <td>0.251661</td>\n",
       "      <td>0.327376</td>\n",
       "      <td>0.325817</td>\n",
       "      <td>0.302197</td>\n",
       "      <td>0.332398</td>\n",
       "      <td>-0.172665</td>\n",
       "      <td>0.258029</td>\n",
       "      <td>0.356618</td>\n",
       "      <td>0.377586</td>\n",
       "      <td>0.687832</td>\n",
       "      <td>-0.172665</td>\n",
       "      <td>-0.071766</td>\n",
       "      <td>1.000000</td>\n",
       "    </tr>\n",
       "  </tbody>\n",
       "</table>\n",
       "</div>"
      ],
      "text/plain": [
       "                           Lat     Long_  Confirmed    Deaths  Recovered  \\\n",
       "Lat                   1.000000 -0.278274   0.120959  0.120024   0.043318   \n",
       "Long_                -0.278274  1.000000   0.009998  0.028772  -0.043379   \n",
       "Confirmed             0.120959  0.009998   1.000000  0.982191   0.876856   \n",
       "Deaths                0.120024  0.028772   0.982191  1.000000   0.856295   \n",
       "Recovered             0.043318 -0.043379   0.876856  0.856295   1.000000   \n",
       "Active                0.120148  0.011654   0.985218  0.954378   0.809437   \n",
       "FIPS                 -0.374943  0.367911  -0.096696 -0.075053  -0.013571   \n",
       "Incident_Rate         0.245693  0.041318   0.711776  0.712117   0.592014   \n",
       "People_Tested         0.084769 -0.077781   0.828022  0.741730   0.950785   \n",
       "People_Hospitalized   0.065030  0.280909   0.989936  0.992313   0.962082   \n",
       "Mortality_Rate       -0.189675  0.318569   0.383425  0.427721   0.362330   \n",
       "UID                   0.774106 -0.526908   0.153972  0.120043   0.166898   \n",
       "Testing_Rate          0.309579  0.190191   0.334032  0.345441   0.252155   \n",
       "Hospitalization_Rate -0.162856  0.251661   0.327376  0.325817   0.302197   \n",
       "\n",
       "                        Active      FIPS  Incident_Rate  People_Tested  \\\n",
       "Lat                   0.120148 -0.374943       0.245693       0.084769   \n",
       "Long_                 0.011654  0.367911       0.041318      -0.077781   \n",
       "Confirmed             0.985218 -0.096696       0.711776       0.828022   \n",
       "Deaths                0.954378 -0.075053       0.712117       0.741730   \n",
       "Recovered             0.809437 -0.013571       0.592014       0.950785   \n",
       "Active                1.000000 -0.092276       0.703931       0.829687   \n",
       "FIPS                 -0.092276  1.000000      -0.220264      -0.194011   \n",
       "Incident_Rate         0.703931 -0.220264       1.000000       0.441669   \n",
       "People_Tested         0.829687 -0.194011       0.441669       1.000000   \n",
       "People_Hospitalized   0.976456  0.013433       0.725370       0.906210   \n",
       "Mortality_Rate        0.368403 -0.262258       0.373338       0.231301   \n",
       "UID                   0.146354  0.058022       0.264768       0.236043   \n",
       "Testing_Rate          0.322773 -0.092705       0.620621       0.230753   \n",
       "Hospitalization_Rate  0.332398 -0.172665       0.258029       0.356618   \n",
       "\n",
       "                      People_Hospitalized  Mortality_Rate       UID  \\\n",
       "Lat                              0.065030       -0.189675  0.774106   \n",
       "Long_                            0.280909        0.318569 -0.526908   \n",
       "Confirmed                        0.989936        0.383425  0.153972   \n",
       "Deaths                           0.992313        0.427721  0.120043   \n",
       "Recovered                        0.962082        0.362330  0.166898   \n",
       "Active                           0.976456        0.368403  0.146354   \n",
       "FIPS                             0.013433       -0.262258  0.058022   \n",
       "Incident_Rate                    0.725370        0.373338  0.264768   \n",
       "People_Tested                    0.906210        0.231301  0.236043   \n",
       "People_Hospitalized              1.000000        0.509658  0.013433   \n",
       "Mortality_Rate                   0.509658        1.000000 -0.259667   \n",
       "UID                              0.013433       -0.259667  1.000000   \n",
       "Testing_Rate                     0.331753        0.170587  0.258609   \n",
       "Hospitalization_Rate             0.377586        0.687832 -0.172665   \n",
       "\n",
       "                      Testing_Rate  Hospitalization_Rate  \n",
       "Lat                       0.309579             -0.162856  \n",
       "Long_                     0.190191              0.251661  \n",
       "Confirmed                 0.334032              0.327376  \n",
       "Deaths                    0.345441              0.325817  \n",
       "Recovered                 0.252155              0.302197  \n",
       "Active                    0.322773              0.332398  \n",
       "FIPS                     -0.092705             -0.172665  \n",
       "Incident_Rate             0.620621              0.258029  \n",
       "People_Tested             0.230753              0.356618  \n",
       "People_Hospitalized       0.331753              0.377586  \n",
       "Mortality_Rate            0.170587              0.687832  \n",
       "UID                       0.258609             -0.172665  \n",
       "Testing_Rate              1.000000             -0.071766  \n",
       "Hospitalization_Rate     -0.071766              1.000000  "
      ]
     },
     "execution_count": 29,
     "metadata": {},
     "output_type": "execute_result"
    }
   ],
   "source": [
    "# TO CHECK CORRELATION:\n",
    "df.corr()"
   ]
  },
  {
   "cell_type": "code",
   "execution_count": 30,
   "metadata": {},
   "outputs": [
    {
     "data": {
      "text/plain": [
       "<matplotlib.axes._subplots.AxesSubplot at 0x16f8e7f7e48>"
      ]
     },
     "execution_count": 30,
     "metadata": {},
     "output_type": "execute_result"
    },
    {
     "data": {
      "image/png": "[encoded data removed]",
      "text/plain": [
       "<Figure size 720x576 with 2 Axes>"
      ]
     },
     "metadata": {
      "needs_background": "light"
     },
     "output_type": "display_data"
    }
   ],
   "source": [
    "plt.figure(figsize=(10,8))\n",
    "sns.heatmap(df.corr(),annot=True)"
   ]
  },
  {
   "cell_type": "code",
   "execution_count": 31,
   "metadata": {},
   "outputs": [
    {
     "data": {
      "text/plain": [
       "(array([ 1,  2,  3,  4,  5,  6,  7,  8,  9, 10, 11, 12, 13, 14]),\n",
       " <a list of 14 Text xticklabel objects>)"
      ]
     },
     "execution_count": 31,
     "metadata": {},
     "output_type": "execute_result"
    },
    {
     "data": {
      "image/png": "[encoded data removed]",
      "text/plain": [
       "<Figure size 432x288 with 1 Axes>"
      ]
     },
     "metadata": {
      "needs_background": "light"
     },
     "output_type": "display_data"
    }
   ],
   "source": [
    "df.boxplot()\n",
    "plt.xticks(rotation=90)"
   ]
  },
  {
   "cell_type": "code",
   "execution_count": 32,
   "metadata": {},
   "outputs": [
    {
     "data": {
      "text/plain": [
       "<matplotlib.axes._subplots.AxesSubplot at 0x16f8e7eba08>"
      ]
     },
     "execution_count": 32,
     "metadata": {},
     "output_type": "execute_result"
    },
    {
     "data": {
      "image/png": "[encoded data removed]",
      "text/plain": [
       "<Figure size 432x288 with 1 Axes>"
      ]
     },
     "metadata": {
      "needs_background": "light"
     },
     "output_type": "display_data"
    }
   ],
   "source": [
    "sns.boxplot(df['Confirmed'])"
   ]
  },
  {
   "cell_type": "code",
   "execution_count": 33,
   "metadata": {},
   "outputs": [
    {
     "data": {
      "text/plain": [
       "<matplotlib.axes._subplots.AxesSubplot at 0x16f8fe1dac8>"
      ]
     },
     "execution_count": 33,
     "metadata": {},
     "output_type": "execute_result"
    },
    {
     "data": {
      "image/png": "[encoded data removed]",
      "text/plain": [
       "<Figure size 432x288 with 1 Axes>"
      ]
     },
     "metadata": {
      "needs_background": "light"
     },
     "output_type": "display_data"
    }
   ],
   "source": [
    "sns.boxplot(df['Deaths'])"
   ]
  },
  {
   "cell_type": "code",
   "execution_count": 34,
   "metadata": {},
   "outputs": [
    {
     "data": {
      "text/plain": [
       "<matplotlib.axes._subplots.AxesSubplot at 0x16f8e7c2448>"
      ]
     },
     "execution_count": 34,
     "metadata": {},
     "output_type": "execute_result"
    },
    {
     "data": {
      "image/png": "[encoded data removed]",
      "text/plain": [
       "<Figure size 432x288 with 1 Axes>"
      ]
     },
     "metadata": {
      "needs_background": "light"
     },
     "output_type": "display_data"
    }
   ],
   "source": [
    "sns.boxplot(df['Recovered'])"
   ]
  },
  {
   "cell_type": "code",
   "execution_count": 35,
   "metadata": {},
   "outputs": [
    {
     "data": {
      "text/plain": [
       "<matplotlib.axes._subplots.AxesSubplot at 0x16f8e68fd48>"
      ]
     },
     "execution_count": 35,
     "metadata": {},
     "output_type": "execute_result"
    },
    {
     "data": {
      "image/png": "[encoded data removed]",
      "text/plain": [
       "<Figure size 432x288 with 1 Axes>"
      ]
     },
     "metadata": {
      "needs_background": "light"
     },
     "output_type": "display_data"
    }
   ],
   "source": [
    "sns.boxplot(df['Active'])"
   ]
  },
  {
   "cell_type": "code",
   "execution_count": 36,
   "metadata": {},
   "outputs": [
    {
     "data": {
      "text/plain": [
       "<matplotlib.axes._subplots.AxesSubplot at 0x16f8e554b48>"
      ]
     },
     "execution_count": 36,
     "metadata": {},
     "output_type": "execute_result"
    },
    {
     "data": {
      "image/png": "[encoded data removed]",
      "text/plain": [
       "<Figure size 432x288 with 1 Axes>"
      ]
     },
     "metadata": {
      "needs_background": "light"
     },
     "output_type": "display_data"
    }
   ],
   "source": [
    "sns.boxplot(df['Incident_Rate'])"
   ]
  },
  {
   "cell_type": "code",
   "execution_count": 37,
   "metadata": {},
   "outputs": [
    {
     "data": {
      "text/plain": [
       "<matplotlib.axes._subplots.AxesSubplot at 0x16f8e71f0c8>"
      ]
     },
     "execution_count": 37,
     "metadata": {},
     "output_type": "execute_result"
    },
    {
     "data": {
      "image/png": "[encoded data removed]",
      "text/plain": [
       "<Figure size 432x288 with 1 Axes>"
      ]
     },
     "metadata": {
      "needs_background": "light"
     },
     "output_type": "display_data"
    }
   ],
   "source": [
    "sns.boxplot(df['People_Tested'])"
   ]
  },
  {
   "cell_type": "code",
   "execution_count": 38,
   "metadata": {},
   "outputs": [
    {
     "data": {
      "text/plain": [
       "<matplotlib.axes._subplots.AxesSubplot at 0x16f8e79b4c8>"
      ]
     },
     "execution_count": 38,
     "metadata": {},
     "output_type": "execute_result"
    },
    {
     "data": {
      "image/png": "[encoded data removed]",
      "text/plain": [
       "<Figure size 432x288 with 1 Axes>"
      ]
     },
     "metadata": {
      "needs_background": "light"
     },
     "output_type": "display_data"
    }
   ],
   "source": [
    "sns.boxplot(df['Mortality_Rate'])"
   ]
  },
  {
   "cell_type": "code",
   "execution_count": 39,
   "metadata": {},
   "outputs": [
    {
     "data": {
      "text/plain": [
       "<matplotlib.axes._subplots.AxesSubplot at 0x16f8e613a88>"
      ]
     },
     "execution_count": 39,
     "metadata": {},
     "output_type": "execute_result"
    },
    {
     "data": {
      "image/png": "[encoded data removed]",
      "text/plain": [
       "<Figure size 432x288 with 1 Axes>"
      ]
     },
     "metadata": {
      "needs_background": "light"
     },
     "output_type": "display_data"
    }
   ],
   "source": [
    "sns.boxplot(df['Testing_Rate'])"
   ]
  },
  {
   "cell_type": "code",
   "execution_count": 40,
   "metadata": {},
   "outputs": [
    {
     "data": {
      "text/plain": [
       "<matplotlib.axes._subplots.AxesSubplot at 0x16f8e619308>"
      ]
     },
     "execution_count": 40,
     "metadata": {},
     "output_type": "execute_result"
    },
    {
     "data": {
      "image/png": "[encoded data removed]",
      "text/plain": [
       "<Figure size 432x288 with 1 Axes>"
      ]
     },
     "metadata": {
      "needs_background": "light"
     },
     "output_type": "display_data"
    }
   ],
   "source": [
    "sns.distplot(df['Recovered'])"
   ]
  },
  {
   "cell_type": "code",
   "execution_count": 41,
   "metadata": {},
   "outputs": [
    {
     "data": {
      "text/plain": [
       "<matplotlib.axes._subplots.AxesSubplot at 0x16f8ff0d508>"
      ]
     },
     "execution_count": 41,
     "metadata": {},
     "output_type": "execute_result"
    },
    {
     "data": {
      "image/png": "[encoded data removed]",
      "text/plain": [
       "<Figure size 432x288 with 1 Axes>"
      ]
     },
     "metadata": {
      "needs_background": "light"
     },
     "output_type": "display_data"
    }
   ],
   "source": [
    "sns.distplot(df['People_Hospitalized'])"
   ]
  },
  {
   "cell_type": "code",
   "execution_count": 42,
   "metadata": {},
   "outputs": [
    {
     "data": {
      "text/plain": [
       "<matplotlib.axes._subplots.AxesSubplot at 0x16f8ff9c048>"
      ]
     },
     "execution_count": 42,
     "metadata": {},
     "output_type": "execute_result"
    },
    {
     "data": {
      "image/png": "[encoded data removed]",
      "text/plain": [
       "<Figure size 432x288 with 1 Axes>"
      ]
     },
     "metadata": {
      "needs_background": "light"
     },
     "output_type": "display_data"
    }
   ],
   "source": [
    "sns.distplot(df['Hospitalization_Rate'])"
   ]
  },
  {
   "cell_type": "code",
   "execution_count": 43,
   "metadata": {},
   "outputs": [
    {
     "data": {
      "text/plain": [
       "<matplotlib.axes._subplots.AxesSubplot at 0x16f8ffc3748>"
      ]
     },
     "execution_count": 43,
     "metadata": {},
     "output_type": "execute_result"
    },
    {
     "data": {
      "image/png": "[encoded data removed]",
      "text/plain": [
       "<Figure size 432x288 with 1 Axes>"
      ]
     },
     "metadata": {
      "needs_background": "light"
     },
     "output_type": "display_data"
    }
   ],
   "source": [
    "sns.distplot(df['Mortality_Rate'])"
   ]
  },
  {
   "cell_type": "markdown",
   "metadata": {},
   "source": [
    "# DATA CLEANING AND IMPUTING"
   ]
  },
  {
   "cell_type": "code",
   "execution_count": 44,
   "metadata": {},
   "outputs": [],
   "source": [
    "# Dropping those columns which do not have much impact on Active cases.\n",
    "df.drop(['Country_Region','Last_Update'],axis=1,inplace=True)"
   ]
  },
  {
   "cell_type": "code",
   "execution_count": 45,
   "metadata": {},
   "outputs": [],
   "source": [
    "# imputing Missing Values\n",
    "df['Recovered'].fillna(df['Recovered'].median(),inplace=True)"
   ]
  },
  {
   "cell_type": "code",
   "execution_count": 46,
   "metadata": {},
   "outputs": [],
   "source": [
    "df['People_Hospitalized'].fillna(df['People_Hospitalized'].median(),inplace=True)"
   ]
  },
  {
   "cell_type": "code",
   "execution_count": 47,
   "metadata": {},
   "outputs": [],
   "source": [
    "df.drop('Hospitalization_Rate',axis=1,inplace=True)"
   ]
  },
  {
   "cell_type": "code",
   "execution_count": 48,
   "metadata": {},
   "outputs": [],
   "source": [
    "df.drop(['Lat',\"Long_\"],axis=1,inplace=True)"
   ]
  },
  {
   "cell_type": "code",
   "execution_count": 49,
   "metadata": {},
   "outputs": [
    {
     "data": {
      "text/plain": [
       "<matplotlib.axes._subplots.AxesSubplot at 0x16f900cf3c8>"
      ]
     },
     "execution_count": 49,
     "metadata": {},
     "output_type": "execute_result"
    },
    {
     "data": {
      "image/png": "[encoded data removed]",
      "text/plain": [
       "<Figure size 432x288 with 2 Axes>"
      ]
     },
     "metadata": {
      "needs_background": "light"
     },
     "output_type": "display_data"
    }
   ],
   "source": [
    "sns.heatmap(df.isnull())"
   ]
  },
  {
   "cell_type": "code",
   "execution_count": 50,
   "metadata": {},
   "outputs": [],
   "source": [
    "df['Incident_Rate'].fillna(df['Incident_Rate'].median(),inplace=True)\n",
    "df['People_Tested'].fillna(df['People_Tested'].median(),inplace=True)\n",
    "df['Mortality_Rate'].fillna(df['Mortality_Rate'].mean(),inplace=True)\n",
    "df['Testing_Rate'].fillna(df['Testing_Rate'].mean(),inplace=True)"
   ]
  },
  {
   "cell_type": "code",
   "execution_count": 51,
   "metadata": {},
   "outputs": [
    {
     "data": {
      "text/plain": [
       "<matplotlib.axes._subplots.AxesSubplot at 0x16f901bb1c8>"
      ]
     },
     "execution_count": 51,
     "metadata": {},
     "output_type": "execute_result"
    },
    {
     "data": {
      "image/png": "[encoded data removed]",
      "text/plain": [
       "<Figure size 432x288 with 2 Axes>"
      ]
     },
     "metadata": {
      "needs_background": "light"
     },
     "output_type": "display_data"
    }
   ],
   "source": [
    "sns.heatmap(df.isnull())"
   ]
  },
  {
   "cell_type": "code",
   "execution_count": 52,
   "metadata": {},
   "outputs": [
    {
     "name": "stdout",
     "output_type": "stream",
     "text": [
      "<class 'pandas.core.frame.DataFrame'>\n",
      "RangeIndex: 58 entries, 0 to 57\n",
      "Data columns (total 13 columns):\n",
      " #   Column               Non-Null Count  Dtype  \n",
      "---  ------               --------------  -----  \n",
      " 0   Province_State       58 non-null     object \n",
      " 1   Confirmed            58 non-null     int64  \n",
      " 2   Deaths               58 non-null     int64  \n",
      " 3   Recovered            58 non-null     float64\n",
      " 4   Active               58 non-null     float64\n",
      " 5   FIPS                 58 non-null     int64  \n",
      " 6   Incident_Rate        58 non-null     float64\n",
      " 7   People_Tested        58 non-null     float64\n",
      " 8   People_Hospitalized  58 non-null     float64\n",
      " 9   Mortality_Rate       58 non-null     float64\n",
      " 10  UID                  58 non-null     int64  \n",
      " 11  ISO3                 58 non-null     object \n",
      " 12  Testing_Rate         58 non-null     float64\n",
      "dtypes: float64(7), int64(4), object(2)\n",
      "memory usage: 6.0+ KB\n"
     ]
    }
   ],
   "source": [
    "df.info()"
   ]
  },
  {
   "cell_type": "markdown",
   "metadata": {},
   "source": [
    "# Labelling the categorical variables and scaling the data"
   ]
  },
  {
   "cell_type": "code",
   "execution_count": 53,
   "metadata": {},
   "outputs": [],
   "source": [
    "# USE LABEL ENCODER\n",
    "from sklearn.preprocessing import LabelEncoder\n",
    "lb=LabelEncoder()\n",
    "df['Province_State']=lb.fit_transform(df['Province_State'])\n",
    "df['ISO3']=lb.fit_transform(df['ISO3'])"
   ]
  },
  {
   "cell_type": "code",
   "execution_count": 54,
   "metadata": {},
   "outputs": [
    {
     "data": {
      "text/html": [
       "<div>\n",
       "<style scoped>\n",
       "    .dataframe tbody tr th:only-of-type {\n",
       "        vertical-align: middle;\n",
       "    }\n",
       "\n",
       "    .dataframe tbody tr th {\n",
       "        vertical-align: top;\n",
       "    }\n",
       "\n",
       "    .dataframe thead th {\n",
       "        text-align: right;\n",
       "    }\n",
       "</style>\n",
       "<table border=\"1\" class=\"dataframe\">\n",
       "  <thead>\n",
       "    <tr style=\"text-align: right;\">\n",
       "      <th></th>\n",
       "      <th>Province_State</th>\n",
       "      <th>Confirmed</th>\n",
       "      <th>Deaths</th>\n",
       "      <th>Recovered</th>\n",
       "      <th>Active</th>\n",
       "      <th>FIPS</th>\n",
       "      <th>Incident_Rate</th>\n",
       "      <th>People_Tested</th>\n",
       "      <th>People_Hospitalized</th>\n",
       "      <th>Mortality_Rate</th>\n",
       "      <th>UID</th>\n",
       "      <th>ISO3</th>\n",
       "      <th>Testing_Rate</th>\n",
       "    </tr>\n",
       "  </thead>\n",
       "  <tbody>\n",
       "    <tr>\n",
       "      <th>0</th>\n",
       "      <td>0</td>\n",
       "      <td>13052</td>\n",
       "      <td>522</td>\n",
       "      <td>3008.0</td>\n",
       "      <td>12530.0</td>\n",
       "      <td>1</td>\n",
       "      <td>266.194321</td>\n",
       "      <td>164450.0</td>\n",
       "      <td>1493.0</td>\n",
       "      <td>3.999387</td>\n",
       "      <td>84000001</td>\n",
       "      <td>4</td>\n",
       "      <td>3353.942386</td>\n",
       "    </tr>\n",
       "    <tr>\n",
       "      <th>1</th>\n",
       "      <td>1</td>\n",
       "      <td>401</td>\n",
       "      <td>10</td>\n",
       "      <td>352.0</td>\n",
       "      <td>39.0</td>\n",
       "      <td>2</td>\n",
       "      <td>54.815493</td>\n",
       "      <td>37045.0</td>\n",
       "      <td>1493.0</td>\n",
       "      <td>2.493766</td>\n",
       "      <td>84000002</td>\n",
       "      <td>4</td>\n",
       "      <td>5063.940017</td>\n",
       "    </tr>\n",
       "    <tr>\n",
       "      <th>2</th>\n",
       "      <td>2</td>\n",
       "      <td>0</td>\n",
       "      <td>0</td>\n",
       "      <td>3008.0</td>\n",
       "      <td>0.0</td>\n",
       "      <td>60</td>\n",
       "      <td>0.000000</td>\n",
       "      <td>124.0</td>\n",
       "      <td>1493.0</td>\n",
       "      <td>4.458248</td>\n",
       "      <td>16</td>\n",
       "      <td>0</td>\n",
       "      <td>222.857246</td>\n",
       "    </tr>\n",
       "    <tr>\n",
       "      <th>3</th>\n",
       "      <td>3</td>\n",
       "      <td>14906</td>\n",
       "      <td>747</td>\n",
       "      <td>3773.0</td>\n",
       "      <td>10386.0</td>\n",
       "      <td>4</td>\n",
       "      <td>204.788838</td>\n",
       "      <td>165435.0</td>\n",
       "      <td>1792.0</td>\n",
       "      <td>5.011405</td>\n",
       "      <td>84000004</td>\n",
       "      <td>4</td>\n",
       "      <td>2272.859351</td>\n",
       "    </tr>\n",
       "    <tr>\n",
       "      <th>4</th>\n",
       "      <td>4</td>\n",
       "      <td>5003</td>\n",
       "      <td>107</td>\n",
       "      <td>3852.0</td>\n",
       "      <td>1044.0</td>\n",
       "      <td>5</td>\n",
       "      <td>165.782801</td>\n",
       "      <td>96258.0</td>\n",
       "      <td>535.0</td>\n",
       "      <td>2.138717</td>\n",
       "      <td>84000005</td>\n",
       "      <td>4</td>\n",
       "      <td>3189.670370</td>\n",
       "    </tr>\n",
       "  </tbody>\n",
       "</table>\n",
       "</div>"
      ],
      "text/plain": [
       "   Province_State  Confirmed  Deaths  Recovered   Active  FIPS  Incident_Rate  \\\n",
       "0               0      13052     522     3008.0  12530.0     1     266.194321   \n",
       "1               1        401      10      352.0     39.0     2      54.815493   \n",
       "2               2          0       0     3008.0      0.0    60       0.000000   \n",
       "3               3      14906     747     3773.0  10386.0     4     204.788838   \n",
       "4               4       5003     107     3852.0   1044.0     5     165.782801   \n",
       "\n",
       "   People_Tested  People_Hospitalized  Mortality_Rate       UID  ISO3  \\\n",
       "0       164450.0               1493.0        3.999387  84000001     4   \n",
       "1        37045.0               1493.0        2.493766  84000002     4   \n",
       "2          124.0               1493.0        4.458248        16     0   \n",
       "3       165435.0               1792.0        5.011405  84000004     4   \n",
       "4        96258.0                535.0        2.138717  84000005     4   \n",
       "\n",
       "   Testing_Rate  \n",
       "0   3353.942386  \n",
       "1   5063.940017  \n",
       "2    222.857246  \n",
       "3   2272.859351  \n",
       "4   3189.670370  "
      ]
     },
     "execution_count": 54,
     "metadata": {},
     "output_type": "execute_result"
    }
   ],
   "source": [
    "df.head()"
   ]
  },
  {
   "cell_type": "code",
   "execution_count": 55,
   "metadata": {},
   "outputs": [],
   "source": [
    "df.drop('Province_State',axis=1,inplace=True)"
   ]
  },
  {
   "cell_type": "code",
   "execution_count": 56,
   "metadata": {},
   "outputs": [
    {
     "data": {
      "text/html": [
       "<div>\n",
       "<style scoped>\n",
       "    .dataframe tbody tr th:only-of-type {\n",
       "        vertical-align: middle;\n",
       "    }\n",
       "\n",
       "    .dataframe tbody tr th {\n",
       "        vertical-align: top;\n",
       "    }\n",
       "\n",
       "    .dataframe thead th {\n",
       "        text-align: right;\n",
       "    }\n",
       "</style>\n",
       "<table border=\"1\" class=\"dataframe\">\n",
       "  <thead>\n",
       "    <tr style=\"text-align: right;\">\n",
       "      <th></th>\n",
       "      <th>Confirmed</th>\n",
       "      <th>Deaths</th>\n",
       "      <th>Recovered</th>\n",
       "      <th>Active</th>\n",
       "      <th>FIPS</th>\n",
       "      <th>Incident_Rate</th>\n",
       "      <th>People_Tested</th>\n",
       "      <th>People_Hospitalized</th>\n",
       "      <th>Mortality_Rate</th>\n",
       "      <th>UID</th>\n",
       "      <th>ISO3</th>\n",
       "      <th>Testing_Rate</th>\n",
       "    </tr>\n",
       "  </thead>\n",
       "  <tbody>\n",
       "    <tr>\n",
       "      <th>0</th>\n",
       "      <td>13052</td>\n",
       "      <td>522</td>\n",
       "      <td>3008.0</td>\n",
       "      <td>12530.0</td>\n",
       "      <td>1</td>\n",
       "      <td>266.194321</td>\n",
       "      <td>164450.0</td>\n",
       "      <td>1493.0</td>\n",
       "      <td>3.999387</td>\n",
       "      <td>84000001</td>\n",
       "      <td>4</td>\n",
       "      <td>3353.942386</td>\n",
       "    </tr>\n",
       "    <tr>\n",
       "      <th>1</th>\n",
       "      <td>401</td>\n",
       "      <td>10</td>\n",
       "      <td>352.0</td>\n",
       "      <td>39.0</td>\n",
       "      <td>2</td>\n",
       "      <td>54.815493</td>\n",
       "      <td>37045.0</td>\n",
       "      <td>1493.0</td>\n",
       "      <td>2.493766</td>\n",
       "      <td>84000002</td>\n",
       "      <td>4</td>\n",
       "      <td>5063.940017</td>\n",
       "    </tr>\n",
       "    <tr>\n",
       "      <th>2</th>\n",
       "      <td>0</td>\n",
       "      <td>0</td>\n",
       "      <td>3008.0</td>\n",
       "      <td>0.0</td>\n",
       "      <td>60</td>\n",
       "      <td>0.000000</td>\n",
       "      <td>124.0</td>\n",
       "      <td>1493.0</td>\n",
       "      <td>4.458248</td>\n",
       "      <td>16</td>\n",
       "      <td>0</td>\n",
       "      <td>222.857246</td>\n",
       "    </tr>\n",
       "    <tr>\n",
       "      <th>3</th>\n",
       "      <td>14906</td>\n",
       "      <td>747</td>\n",
       "      <td>3773.0</td>\n",
       "      <td>10386.0</td>\n",
       "      <td>4</td>\n",
       "      <td>204.788838</td>\n",
       "      <td>165435.0</td>\n",
       "      <td>1792.0</td>\n",
       "      <td>5.011405</td>\n",
       "      <td>84000004</td>\n",
       "      <td>4</td>\n",
       "      <td>2272.859351</td>\n",
       "    </tr>\n",
       "    <tr>\n",
       "      <th>4</th>\n",
       "      <td>5003</td>\n",
       "      <td>107</td>\n",
       "      <td>3852.0</td>\n",
       "      <td>1044.0</td>\n",
       "      <td>5</td>\n",
       "      <td>165.782801</td>\n",
       "      <td>96258.0</td>\n",
       "      <td>535.0</td>\n",
       "      <td>2.138717</td>\n",
       "      <td>84000005</td>\n",
       "      <td>4</td>\n",
       "      <td>3189.670370</td>\n",
       "    </tr>\n",
       "  </tbody>\n",
       "</table>\n",
       "</div>"
      ],
      "text/plain": [
       "   Confirmed  Deaths  Recovered   Active  FIPS  Incident_Rate  People_Tested  \\\n",
       "0      13052     522     3008.0  12530.0     1     266.194321       164450.0   \n",
       "1        401      10      352.0     39.0     2      54.815493        37045.0   \n",
       "2          0       0     3008.0      0.0    60       0.000000          124.0   \n",
       "3      14906     747     3773.0  10386.0     4     204.788838       165435.0   \n",
       "4       5003     107     3852.0   1044.0     5     165.782801        96258.0   \n",
       "\n",
       "   People_Hospitalized  Mortality_Rate       UID  ISO3  Testing_Rate  \n",
       "0               1493.0        3.999387  84000001     4   3353.942386  \n",
       "1               1493.0        2.493766  84000002     4   5063.940017  \n",
       "2               1493.0        4.458248        16     0    222.857246  \n",
       "3               1792.0        5.011405  84000004     4   2272.859351  \n",
       "4                535.0        2.138717  84000005     4   3189.670370  "
      ]
     },
     "execution_count": 56,
     "metadata": {},
     "output_type": "execute_result"
    }
   ],
   "source": [
    "df.head()"
   ]
  },
  {
   "cell_type": "markdown",
   "metadata": {},
   "source": [
    "#Removing the outliers"
   ]
  },
  {
   "cell_type": "code",
   "execution_count": 57,
   "metadata": {},
   "outputs": [
    {
     "name": "stdout",
     "output_type": "stream",
     "text": [
      "data shape before zscore (58, 12)\n",
      "data shape after zscore (47, 12)\n"
     ]
    }
   ],
   "source": [
    "print(\"data shape before zscore\", df.shape)\n",
    "from scipy.stats import zscore\n",
    "z=np.abs(zscore(df))\n",
    "df=df[(z<3).all(axis=1)]\n",
    "print(\"data shape after zscore\", df.shape)"
   ]
  },
  {
   "cell_type": "raw",
   "metadata": {},
   "source": [
    "11 rows are deleted as an outliers"
   ]
  },
  {
   "cell_type": "code",
   "execution_count": 58,
   "metadata": {},
   "outputs": [
    {
     "data": {
      "text/plain": [
       "Confirmed              1.849613\n",
       "Deaths                 2.001798\n",
       "Recovered              2.734245\n",
       "Active                 2.379176\n",
       "FIPS                   0.042193\n",
       "Incident_Rate          1.593314\n",
       "People_Tested          1.788602\n",
       "People_Hospitalized    1.956220\n",
       "Mortality_Rate         0.528123\n",
       "UID                    0.042193\n",
       "ISO3                   0.000000\n",
       "Testing_Rate           1.196266\n",
       "dtype: float64"
      ]
     },
     "execution_count": 58,
     "metadata": {},
     "output_type": "execute_result"
    }
   ],
   "source": [
    "# checking and removing skewness\n",
    "df.skew()"
   ]
  },
  {
   "cell_type": "code",
   "execution_count": 59,
   "metadata": {},
   "outputs": [
    {
     "data": {
      "text/html": [
       "<div>\n",
       "<style scoped>\n",
       "    .dataframe tbody tr th:only-of-type {\n",
       "        vertical-align: middle;\n",
       "    }\n",
       "\n",
       "    .dataframe tbody tr th {\n",
       "        vertical-align: top;\n",
       "    }\n",
       "\n",
       "    .dataframe thead th {\n",
       "        text-align: right;\n",
       "    }\n",
       "</style>\n",
       "<table border=\"1\" class=\"dataframe\">\n",
       "  <thead>\n",
       "    <tr style=\"text-align: right;\">\n",
       "      <th></th>\n",
       "      <th>Confirmed</th>\n",
       "      <th>Deaths</th>\n",
       "      <th>Recovered</th>\n",
       "      <th>Active</th>\n",
       "      <th>FIPS</th>\n",
       "      <th>Incident_Rate</th>\n",
       "      <th>People_Tested</th>\n",
       "      <th>People_Hospitalized</th>\n",
       "      <th>Mortality_Rate</th>\n",
       "      <th>UID</th>\n",
       "      <th>ISO3</th>\n",
       "      <th>Testing_Rate</th>\n",
       "      <th>Active_New</th>\n",
       "    </tr>\n",
       "  </thead>\n",
       "  <tbody>\n",
       "    <tr>\n",
       "      <th>0</th>\n",
       "      <td>13052</td>\n",
       "      <td>522</td>\n",
       "      <td>3008.0</td>\n",
       "      <td>12530.0</td>\n",
       "      <td>1</td>\n",
       "      <td>266.194321</td>\n",
       "      <td>164450.0</td>\n",
       "      <td>1493.0</td>\n",
       "      <td>3.999387</td>\n",
       "      <td>84000001</td>\n",
       "      <td>4</td>\n",
       "      <td>3353.942386</td>\n",
       "      <td>12530.0</td>\n",
       "    </tr>\n",
       "    <tr>\n",
       "      <th>1</th>\n",
       "      <td>401</td>\n",
       "      <td>10</td>\n",
       "      <td>352.0</td>\n",
       "      <td>39.0</td>\n",
       "      <td>2</td>\n",
       "      <td>54.815493</td>\n",
       "      <td>37045.0</td>\n",
       "      <td>1493.0</td>\n",
       "      <td>2.493766</td>\n",
       "      <td>84000002</td>\n",
       "      <td>4</td>\n",
       "      <td>5063.940017</td>\n",
       "      <td>39.0</td>\n",
       "    </tr>\n",
       "    <tr>\n",
       "      <th>3</th>\n",
       "      <td>14906</td>\n",
       "      <td>747</td>\n",
       "      <td>3773.0</td>\n",
       "      <td>10386.0</td>\n",
       "      <td>4</td>\n",
       "      <td>204.788838</td>\n",
       "      <td>165435.0</td>\n",
       "      <td>1792.0</td>\n",
       "      <td>5.011405</td>\n",
       "      <td>84000004</td>\n",
       "      <td>4</td>\n",
       "      <td>2272.859351</td>\n",
       "      <td>10386.0</td>\n",
       "    </tr>\n",
       "    <tr>\n",
       "      <th>4</th>\n",
       "      <td>5003</td>\n",
       "      <td>107</td>\n",
       "      <td>3852.0</td>\n",
       "      <td>1044.0</td>\n",
       "      <td>5</td>\n",
       "      <td>165.782801</td>\n",
       "      <td>96258.0</td>\n",
       "      <td>535.0</td>\n",
       "      <td>2.138717</td>\n",
       "      <td>84000005</td>\n",
       "      <td>4</td>\n",
       "      <td>3189.670370</td>\n",
       "      <td>1044.0</td>\n",
       "    </tr>\n",
       "    <tr>\n",
       "      <th>6</th>\n",
       "      <td>22797</td>\n",
       "      <td>1299</td>\n",
       "      <td>3478.0</td>\n",
       "      <td>18020.0</td>\n",
       "      <td>8</td>\n",
       "      <td>395.868121</td>\n",
       "      <td>131837.0</td>\n",
       "      <td>3955.0</td>\n",
       "      <td>5.698118</td>\n",
       "      <td>84000008</td>\n",
       "      <td>4</td>\n",
       "      <td>2289.339188</td>\n",
       "      <td>18020.0</td>\n",
       "    </tr>\n",
       "  </tbody>\n",
       "</table>\n",
       "</div>"
      ],
      "text/plain": [
       "   Confirmed  Deaths  Recovered   Active  FIPS  Incident_Rate  People_Tested  \\\n",
       "0      13052     522     3008.0  12530.0     1     266.194321       164450.0   \n",
       "1        401      10      352.0     39.0     2      54.815493        37045.0   \n",
       "3      14906     747     3773.0  10386.0     4     204.788838       165435.0   \n",
       "4       5003     107     3852.0   1044.0     5     165.782801        96258.0   \n",
       "6      22797    1299     3478.0  18020.0     8     395.868121       131837.0   \n",
       "\n",
       "   People_Hospitalized  Mortality_Rate       UID  ISO3  Testing_Rate  \\\n",
       "0               1493.0        3.999387  84000001     4   3353.942386   \n",
       "1               1493.0        2.493766  84000002     4   5063.940017   \n",
       "3               1792.0        5.011405  84000004     4   2272.859351   \n",
       "4                535.0        2.138717  84000005     4   3189.670370   \n",
       "6               3955.0        5.698118  84000008     4   2289.339188   \n",
       "\n",
       "   Active_New  \n",
       "0     12530.0  \n",
       "1        39.0  \n",
       "3     10386.0  \n",
       "4      1044.0  \n",
       "6     18020.0  "
      ]
     },
     "execution_count": 59,
     "metadata": {},
     "output_type": "execute_result"
    }
   ],
   "source": [
    "df[\"Active_New\"]=df['Active']\n",
    "df.head()"
   ]
  },
  {
   "cell_type": "code",
   "execution_count": 60,
   "metadata": {},
   "outputs": [],
   "source": [
    "df.drop('Active',axis=1,inplace=True)"
   ]
  },
  {
   "cell_type": "code",
   "execution_count": 61,
   "metadata": {},
   "outputs": [
    {
     "data": {
      "text/html": [
       "<div>\n",
       "<style scoped>\n",
       "    .dataframe tbody tr th:only-of-type {\n",
       "        vertical-align: middle;\n",
       "    }\n",
       "\n",
       "    .dataframe tbody tr th {\n",
       "        vertical-align: top;\n",
       "    }\n",
       "\n",
       "    .dataframe thead th {\n",
       "        text-align: right;\n",
       "    }\n",
       "</style>\n",
       "<table border=\"1\" class=\"dataframe\">\n",
       "  <thead>\n",
       "    <tr style=\"text-align: right;\">\n",
       "      <th></th>\n",
       "      <th>Confirmed</th>\n",
       "      <th>Deaths</th>\n",
       "      <th>Recovered</th>\n",
       "      <th>FIPS</th>\n",
       "      <th>Incident_Rate</th>\n",
       "      <th>People_Tested</th>\n",
       "      <th>People_Hospitalized</th>\n",
       "      <th>Mortality_Rate</th>\n",
       "      <th>UID</th>\n",
       "      <th>ISO3</th>\n",
       "      <th>Testing_Rate</th>\n",
       "    </tr>\n",
       "  </thead>\n",
       "  <tbody>\n",
       "    <tr>\n",
       "      <th>0</th>\n",
       "      <td>13052</td>\n",
       "      <td>522</td>\n",
       "      <td>3008.0</td>\n",
       "      <td>1</td>\n",
       "      <td>266.194321</td>\n",
       "      <td>164450.0</td>\n",
       "      <td>1493.0</td>\n",
       "      <td>3.999387</td>\n",
       "      <td>84000001</td>\n",
       "      <td>4</td>\n",
       "      <td>3353.942386</td>\n",
       "    </tr>\n",
       "    <tr>\n",
       "      <th>1</th>\n",
       "      <td>401</td>\n",
       "      <td>10</td>\n",
       "      <td>352.0</td>\n",
       "      <td>2</td>\n",
       "      <td>54.815493</td>\n",
       "      <td>37045.0</td>\n",
       "      <td>1493.0</td>\n",
       "      <td>2.493766</td>\n",
       "      <td>84000002</td>\n",
       "      <td>4</td>\n",
       "      <td>5063.940017</td>\n",
       "    </tr>\n",
       "    <tr>\n",
       "      <th>3</th>\n",
       "      <td>14906</td>\n",
       "      <td>747</td>\n",
       "      <td>3773.0</td>\n",
       "      <td>4</td>\n",
       "      <td>204.788838</td>\n",
       "      <td>165435.0</td>\n",
       "      <td>1792.0</td>\n",
       "      <td>5.011405</td>\n",
       "      <td>84000004</td>\n",
       "      <td>4</td>\n",
       "      <td>2272.859351</td>\n",
       "    </tr>\n",
       "    <tr>\n",
       "      <th>4</th>\n",
       "      <td>5003</td>\n",
       "      <td>107</td>\n",
       "      <td>3852.0</td>\n",
       "      <td>5</td>\n",
       "      <td>165.782801</td>\n",
       "      <td>96258.0</td>\n",
       "      <td>535.0</td>\n",
       "      <td>2.138717</td>\n",
       "      <td>84000005</td>\n",
       "      <td>4</td>\n",
       "      <td>3189.670370</td>\n",
       "    </tr>\n",
       "    <tr>\n",
       "      <th>6</th>\n",
       "      <td>22797</td>\n",
       "      <td>1299</td>\n",
       "      <td>3478.0</td>\n",
       "      <td>8</td>\n",
       "      <td>395.868121</td>\n",
       "      <td>131837.0</td>\n",
       "      <td>3955.0</td>\n",
       "      <td>5.698118</td>\n",
       "      <td>84000008</td>\n",
       "      <td>4</td>\n",
       "      <td>2289.339188</td>\n",
       "    </tr>\n",
       "  </tbody>\n",
       "</table>\n",
       "</div>"
      ],
      "text/plain": [
       "   Confirmed  Deaths  Recovered  FIPS  Incident_Rate  People_Tested  \\\n",
       "0      13052     522     3008.0     1     266.194321       164450.0   \n",
       "1        401      10      352.0     2      54.815493        37045.0   \n",
       "3      14906     747     3773.0     4     204.788838       165435.0   \n",
       "4       5003     107     3852.0     5     165.782801        96258.0   \n",
       "6      22797    1299     3478.0     8     395.868121       131837.0   \n",
       "\n",
       "   People_Hospitalized  Mortality_Rate       UID  ISO3  Testing_Rate  \n",
       "0               1493.0        3.999387  84000001     4   3353.942386  \n",
       "1               1493.0        2.493766  84000002     4   5063.940017  \n",
       "3               1792.0        5.011405  84000004     4   2272.859351  \n",
       "4                535.0        2.138717  84000005     4   3189.670370  \n",
       "6               3955.0        5.698118  84000008     4   2289.339188  "
      ]
     },
     "execution_count": 61,
     "metadata": {},
     "output_type": "execute_result"
    }
   ],
   "source": [
    "# Spliting the data into x and y\n",
    "x=df.iloc[:,:-1]\n",
    "y=pd.DataFrame(df.iloc[:,-1])\n",
    "x.head()"
   ]
  },
  {
   "cell_type": "code",
   "execution_count": 62,
   "metadata": {},
   "outputs": [
    {
     "data": {
      "text/html": [
       "<div>\n",
       "<style scoped>\n",
       "    .dataframe tbody tr th:only-of-type {\n",
       "        vertical-align: middle;\n",
       "    }\n",
       "\n",
       "    .dataframe tbody tr th {\n",
       "        vertical-align: top;\n",
       "    }\n",
       "\n",
       "    .dataframe thead th {\n",
       "        text-align: right;\n",
       "    }\n",
       "</style>\n",
       "<table border=\"1\" class=\"dataframe\">\n",
       "  <thead>\n",
       "    <tr style=\"text-align: right;\">\n",
       "      <th></th>\n",
       "      <th>Active_New</th>\n",
       "    </tr>\n",
       "  </thead>\n",
       "  <tbody>\n",
       "    <tr>\n",
       "      <th>0</th>\n",
       "      <td>12530.0</td>\n",
       "    </tr>\n",
       "    <tr>\n",
       "      <th>1</th>\n",
       "      <td>39.0</td>\n",
       "    </tr>\n",
       "    <tr>\n",
       "      <th>3</th>\n",
       "      <td>10386.0</td>\n",
       "    </tr>\n",
       "    <tr>\n",
       "      <th>4</th>\n",
       "      <td>1044.0</td>\n",
       "    </tr>\n",
       "    <tr>\n",
       "      <th>6</th>\n",
       "      <td>18020.0</td>\n",
       "    </tr>\n",
       "  </tbody>\n",
       "</table>\n",
       "</div>"
      ],
      "text/plain": [
       "   Active_New\n",
       "0     12530.0\n",
       "1        39.0\n",
       "3     10386.0\n",
       "4      1044.0\n",
       "6     18020.0"
      ]
     },
     "execution_count": 62,
     "metadata": {},
     "output_type": "execute_result"
    }
   ],
   "source": [
    "y.head()"
   ]
  },
  {
   "cell_type": "code",
   "execution_count": 63,
   "metadata": {},
   "outputs": [
    {
     "name": "stdout",
     "output_type": "stream",
     "text": [
      "(47, 11)\n",
      "(47, 1)\n"
     ]
    }
   ],
   "source": [
    "print(x.shape)\n",
    "print(y.shape)"
   ]
  },
  {
   "cell_type": "code",
   "execution_count": 64,
   "metadata": {},
   "outputs": [
    {
     "data": {
      "text/plain": [
       "Confirmed              1.849613\n",
       "Deaths                 2.001798\n",
       "Recovered              2.734245\n",
       "FIPS                   0.042193\n",
       "Incident_Rate          1.593314\n",
       "People_Tested          1.788602\n",
       "People_Hospitalized    1.956220\n",
       "Mortality_Rate         0.528123\n",
       "UID                    0.042193\n",
       "ISO3                   0.000000\n",
       "Testing_Rate           1.196266\n",
       "dtype: float64"
      ]
     },
     "execution_count": 64,
     "metadata": {},
     "output_type": "execute_result"
    }
   ],
   "source": [
    "x.skew()"
   ]
  },
  {
   "cell_type": "code",
   "execution_count": 65,
   "metadata": {},
   "outputs": [],
   "source": [
    "for i in x.columns:\n",
    "    if x.skew()[i]>0.55:\n",
    "        x[i]=np.sqrt(x[i])"
   ]
  },
  {
   "cell_type": "code",
   "execution_count": 66,
   "metadata": {},
   "outputs": [
    {
     "data": {
      "text/plain": [
       "Confirmed              0.786695\n",
       "Deaths                 1.069853\n",
       "Recovered              1.622735\n",
       "FIPS                   0.042193\n",
       "Incident_Rate          0.809832\n",
       "People_Tested          0.870615\n",
       "People_Hospitalized    1.033817\n",
       "Mortality_Rate         0.528123\n",
       "UID                    0.042193\n",
       "ISO3                   0.000000\n",
       "Testing_Rate           0.886229\n",
       "dtype: float64"
      ]
     },
     "execution_count": 66,
     "metadata": {},
     "output_type": "execute_result"
    }
   ],
   "source": [
    "x.skew()"
   ]
  },
  {
   "cell_type": "code",
   "execution_count": 67,
   "metadata": {},
   "outputs": [],
   "source": [
    "#as the skewness needs to be reduced again, we use log function to reduce\n",
    "for i in x.columns:\n",
    "    if x.skew()[i]>0.55:\n",
    "        x[i]=np.log1p(x[i])"
   ]
  },
  {
   "cell_type": "code",
   "execution_count": 68,
   "metadata": {},
   "outputs": [
    {
     "data": {
      "text/plain": [
       "Confirmed             -0.540498\n",
       "Deaths                -0.270438\n",
       "Recovered              0.069567\n",
       "FIPS                   0.042193\n",
       "Incident_Rate         -0.142400\n",
       "People_Tested         -0.088545\n",
       "People_Hospitalized   -0.598687\n",
       "Mortality_Rate         0.528123\n",
       "UID                    0.042193\n",
       "ISO3                   0.000000\n",
       "Testing_Rate           0.592296\n",
       "dtype: float64"
      ]
     },
     "execution_count": 68,
     "metadata": {},
     "output_type": "execute_result"
    }
   ],
   "source": [
    "x.skew()"
   ]
  },
  {
   "cell_type": "markdown",
   "metadata": {},
   "source": [
    "# Applying Standardscaler for scaling data"
   ]
  },
  {
   "cell_type": "code",
   "execution_count": 69,
   "metadata": {},
   "outputs": [
    {
     "data": {
      "text/html": [
       "<div>\n",
       "<style scoped>\n",
       "    .dataframe tbody tr th:only-of-type {\n",
       "        vertical-align: middle;\n",
       "    }\n",
       "\n",
       "    .dataframe tbody tr th {\n",
       "        vertical-align: top;\n",
       "    }\n",
       "\n",
       "    .dataframe thead th {\n",
       "        text-align: right;\n",
       "    }\n",
       "</style>\n",
       "<table border=\"1\" class=\"dataframe\">\n",
       "  <thead>\n",
       "    <tr style=\"text-align: right;\">\n",
       "      <th></th>\n",
       "      <th>0</th>\n",
       "      <th>1</th>\n",
       "      <th>2</th>\n",
       "      <th>3</th>\n",
       "      <th>4</th>\n",
       "      <th>5</th>\n",
       "      <th>6</th>\n",
       "      <th>7</th>\n",
       "      <th>8</th>\n",
       "      <th>9</th>\n",
       "      <th>10</th>\n",
       "    </tr>\n",
       "  </thead>\n",
       "  <tbody>\n",
       "    <tr>\n",
       "      <th>0</th>\n",
       "      <td>0.207977</td>\n",
       "      <td>0.180245</td>\n",
       "      <td>0.043424</td>\n",
       "      <td>-1.766169</td>\n",
       "      <td>-0.031653</td>\n",
       "      <td>0.258493</td>\n",
       "      <td>0.118958</td>\n",
       "      <td>-0.159618</td>\n",
       "      <td>-1.766169</td>\n",
       "      <td>0.0</td>\n",
       "      <td>-0.203538</td>\n",
       "    </tr>\n",
       "    <tr>\n",
       "      <th>1</th>\n",
       "      <td>-2.293584</td>\n",
       "      <td>-2.086529</td>\n",
       "      <td>-1.919365</td>\n",
       "      <td>-1.702803</td>\n",
       "      <td>-2.015495</td>\n",
       "      <td>-1.341096</td>\n",
       "      <td>0.118958</td>\n",
       "      <td>-0.960464</td>\n",
       "      <td>-1.702803</td>\n",
       "      <td>0.0</td>\n",
       "      <td>1.068161</td>\n",
       "    </tr>\n",
       "    <tr>\n",
       "      <th>2</th>\n",
       "      <td>0.304804</td>\n",
       "      <td>0.403981</td>\n",
       "      <td>0.253861</td>\n",
       "      <td>-1.576070</td>\n",
       "      <td>-0.369367</td>\n",
       "      <td>0.264910</td>\n",
       "      <td>0.273396</td>\n",
       "      <td>0.378678</td>\n",
       "      <td>-1.576070</td>\n",
       "      <td>0.0</td>\n",
       "      <td>-1.400448</td>\n",
       "    </tr>\n",
       "    <tr>\n",
       "      <th>3</th>\n",
       "      <td>-0.489151</td>\n",
       "      <td>-0.784551</td>\n",
       "      <td>0.273125</td>\n",
       "      <td>-1.512704</td>\n",
       "      <td>-0.639392</td>\n",
       "      <td>-0.316768</td>\n",
       "      <td>-0.741690</td>\n",
       "      <td>-1.149316</td>\n",
       "      <td>-1.512704</td>\n",
       "      <td>0.0</td>\n",
       "      <td>-0.358256</td>\n",
       "    </tr>\n",
       "    <tr>\n",
       "      <th>4</th>\n",
       "      <td>0.614863</td>\n",
       "      <td>0.752092</td>\n",
       "      <td>0.178207</td>\n",
       "      <td>-1.322605</td>\n",
       "      <td>0.484198</td>\n",
       "      <td>0.021021</td>\n",
       "      <td>0.946588</td>\n",
       "      <td>0.743944</td>\n",
       "      <td>-1.322605</td>\n",
       "      <td>0.0</td>\n",
       "      <td>-1.378265</td>\n",
       "    </tr>\n",
       "  </tbody>\n",
       "</table>\n",
       "</div>"
      ],
      "text/plain": [
       "          0         1         2         3         4         5         6  \\\n",
       "0  0.207977  0.180245  0.043424 -1.766169 -0.031653  0.258493  0.118958   \n",
       "1 -2.293584 -2.086529 -1.919365 -1.702803 -2.015495 -1.341096  0.118958   \n",
       "2  0.304804  0.403981  0.253861 -1.576070 -0.369367  0.264910  0.273396   \n",
       "3 -0.489151 -0.784551  0.273125 -1.512704 -0.639392 -0.316768 -0.741690   \n",
       "4  0.614863  0.752092  0.178207 -1.322605  0.484198  0.021021  0.946588   \n",
       "\n",
       "          7         8    9        10  \n",
       "0 -0.159618 -1.766169  0.0 -0.203538  \n",
       "1 -0.960464 -1.702803  0.0  1.068161  \n",
       "2  0.378678 -1.576070  0.0 -1.400448  \n",
       "3 -1.149316 -1.512704  0.0 -0.358256  \n",
       "4  0.743944 -1.322605  0.0 -1.378265  "
      ]
     },
     "execution_count": 69,
     "metadata": {},
     "output_type": "execute_result"
    }
   ],
   "source": [
    "from sklearn.preprocessing import StandardScaler\n",
    "scaler=StandardScaler()\n",
    "x=scaler.fit_transform(x)\n",
    "x=pd.DataFrame(x)\n",
    "x.head()"
   ]
  },
  {
   "cell_type": "code",
   "execution_count": 70,
   "metadata": {},
   "outputs": [
    {
     "data": {
      "text/html": [
       "<div>\n",
       "<style scoped>\n",
       "    .dataframe tbody tr th:only-of-type {\n",
       "        vertical-align: middle;\n",
       "    }\n",
       "\n",
       "    .dataframe tbody tr th {\n",
       "        vertical-align: top;\n",
       "    }\n",
       "\n",
       "    .dataframe thead th {\n",
       "        text-align: right;\n",
       "    }\n",
       "</style>\n",
       "<table border=\"1\" class=\"dataframe\">\n",
       "  <thead>\n",
       "    <tr style=\"text-align: right;\">\n",
       "      <th></th>\n",
       "      <th>0</th>\n",
       "    </tr>\n",
       "  </thead>\n",
       "  <tbody>\n",
       "    <tr>\n",
       "      <th>0</th>\n",
       "      <td>-0.099942</td>\n",
       "    </tr>\n",
       "    <tr>\n",
       "      <th>1</th>\n",
       "      <td>-0.698336</td>\n",
       "    </tr>\n",
       "    <tr>\n",
       "      <th>2</th>\n",
       "      <td>-0.202652</td>\n",
       "    </tr>\n",
       "    <tr>\n",
       "      <th>3</th>\n",
       "      <td>-0.650190</td>\n",
       "    </tr>\n",
       "    <tr>\n",
       "      <th>4</th>\n",
       "      <td>0.163062</td>\n",
       "    </tr>\n",
       "  </tbody>\n",
       "</table>\n",
       "</div>"
      ],
      "text/plain": [
       "          0\n",
       "0 -0.099942\n",
       "1 -0.698336\n",
       "2 -0.202652\n",
       "3 -0.650190\n",
       "4  0.163062"
      ]
     },
     "execution_count": 70,
     "metadata": {},
     "output_type": "execute_result"
    }
   ],
   "source": [
    "y=scaler.fit_transform(y)\n",
    "y=pd.DataFrame(y)\n",
    "y.head()"
   ]
  },
  {
   "cell_type": "markdown",
   "metadata": {},
   "source": [
    "# Calculating best r_state for train_test_split"
   ]
  },
  {
   "cell_type": "code",
   "execution_count": 71,
   "metadata": {},
   "outputs": [],
   "source": [
    "#importing necessary libraries\n",
    "from sklearn.model_selection import train_test_split\n",
    "from sklearn.linear_model import LinearRegression\n",
    "from sklearn.metrics import r2_score, mean_absolute_error, mean_squared_error"
   ]
  },
  {
   "cell_type": "code",
   "execution_count": 72,
   "metadata": {},
   "outputs": [],
   "source": [
    "def maxr2_score(regr,x,y):\n",
    "    max_r2_score=0\n",
    "    for r_state in range(42,100):\n",
    "        train_x,test_x,train_y,test_y=train_test_split(x,y,random_state=r_state,test_size=0.20)\n",
    "        regr.fit(train_x,train_y)\n",
    "        pred=regr.predict(test_x)\n",
    "        r2score=r2_score(test_y,pred)\n",
    "        print(\"The r2 score at r state\", r_state, \"is\", r2score )\n",
    "        if r2score>max_r2_score:\n",
    "            max_r2_score=r2score\n",
    "            final_r_state=r_state\n",
    "    print(\"The max r2 score\", max_r2_score, \"is achieved at r_state\", final_r_state)"
   ]
  },
  {
   "cell_type": "code",
   "execution_count": 73,
   "metadata": {},
   "outputs": [
    {
     "name": "stdout",
     "output_type": "stream",
     "text": [
      "The r2 score at r state 42 is 0.5881715155253144\n",
      "The r2 score at r state 43 is 0.9050204148392342\n",
      "The r2 score at r state 44 is -0.46214008577291055\n",
      "The r2 score at r state 45 is 0.7787392100267536\n",
      "The r2 score at r state 46 is 0.5049696477712319\n",
      "The r2 score at r state 47 is 0.7260271820164448\n",
      "The r2 score at r state 48 is 0.004134021687000722\n",
      "The r2 score at r state 49 is 0.04713383653016534\n",
      "The r2 score at r state 50 is 0.5615143215829466\n",
      "The r2 score at r state 51 is -0.9197027608859749\n",
      "The r2 score at r state 52 is -0.5650484829706908\n",
      "The r2 score at r state 53 is -0.8137566649854451\n",
      "The r2 score at r state 54 is -0.8861477588927649\n",
      "The r2 score at r state 55 is 0.6403098133553169\n",
      "The r2 score at r state 56 is 0.709012853642195\n",
      "The r2 score at r state 57 is 0.8077470502403785\n",
      "The r2 score at r state 58 is 0.07136489335713836\n",
      "The r2 score at r state 59 is 0.44856284335473484\n",
      "The r2 score at r state 60 is 0.7097569380345601\n",
      "The r2 score at r state 61 is -1.390793687596806\n",
      "The r2 score at r state 62 is 0.7297736271019248\n",
      "The r2 score at r state 63 is 0.6700060963468093\n",
      "The r2 score at r state 64 is 0.42131481575372653\n",
      "The r2 score at r state 65 is 0.64064665003562\n",
      "The r2 score at r state 66 is 0.6963520985167344\n",
      "The r2 score at r state 67 is 0.6104701041803628\n",
      "The r2 score at r state 68 is -2.265977912897833\n",
      "The r2 score at r state 69 is 0.5206232943666693\n",
      "The r2 score at r state 70 is 0.6496442928572252\n",
      "The r2 score at r state 71 is 0.7350142964711834\n",
      "The r2 score at r state 72 is 0.36175434469910306\n",
      "The r2 score at r state 73 is 0.1300103216939057\n",
      "The r2 score at r state 74 is 0.7155876481074336\n",
      "The r2 score at r state 75 is 0.5108467414551422\n",
      "The r2 score at r state 76 is 0.6512491641360603\n",
      "The r2 score at r state 77 is 0.4802874197799355\n",
      "The r2 score at r state 78 is 0.5702596120608383\n",
      "The r2 score at r state 79 is 0.5516740517267289\n",
      "The r2 score at r state 80 is 0.6056557088573251\n",
      "The r2 score at r state 81 is 0.5459915865580857\n",
      "The r2 score at r state 82 is 0.6812358448378981\n",
      "The r2 score at r state 83 is 0.5287019767067977\n",
      "The r2 score at r state 84 is 0.34366329914020566\n",
      "The r2 score at r state 85 is 0.7299397022368701\n",
      "The r2 score at r state 86 is -0.14968288361214555\n",
      "The r2 score at r state 87 is -0.24065811060683306\n",
      "The r2 score at r state 88 is 0.6833784506099235\n",
      "The r2 score at r state 89 is 0.42026288965585545\n",
      "The r2 score at r state 90 is 0.7318905816563133\n",
      "The r2 score at r state 91 is 0.6424335831209931\n",
      "The r2 score at r state 92 is 0.6840058126883642\n",
      "The r2 score at r state 93 is 0.7517184749184482\n",
      "The r2 score at r state 94 is 0.6524523490958131\n",
      "The r2 score at r state 95 is 0.6235368934288765\n",
      "The r2 score at r state 96 is 0.714810952183168\n",
      "The r2 score at r state 97 is -0.649061961351838\n",
      "The r2 score at r state 98 is 0.7142619066941887\n",
      "The r2 score at r state 99 is 0.07462308886580882\n",
      "The max r2 score 0.9050204148392342 is achieved at r_state 43\n"
     ]
    }
   ],
   "source": [
    "lr=LinearRegression()\n",
    "maxr2_score(lr,x,y)"
   ]
  },
  {
   "cell_type": "code",
   "execution_count": 74,
   "metadata": {},
   "outputs": [
    {
     "name": "stdout",
     "output_type": "stream",
     "text": [
      "(37, 11)\n",
      "(37, 1)\n",
      "(10, 11)\n",
      "(10, 1)\n"
     ]
    }
   ],
   "source": [
    "#Lets finalise the train and test data\n",
    "train_x,test_x,train_y,test_y=train_test_split(x,y,random_state=43,test_size=0.20)\n",
    "print(train_x.shape)\n",
    "print(train_y.shape)\n",
    "print(test_x.shape)\n",
    "print(test_y.shape)"
   ]
  },
  {
   "cell_type": "code",
   "execution_count": 75,
   "metadata": {},
   "outputs": [
    {
     "name": "stdout",
     "output_type": "stream",
     "text": [
      "The r2 score at r state 42 is 0.5881715155253144\n",
      "The r2 score at r state 43 is 0.9050204148392342\n",
      "The r2 score at r state 44 is -0.46214008577291055\n",
      "The r2 score at r state 45 is 0.7787392100267536\n",
      "The r2 score at r state 46 is 0.5049696477712319\n",
      "The r2 score at r state 47 is 0.7260271820164448\n",
      "The r2 score at r state 48 is 0.004134021687000722\n",
      "The r2 score at r state 49 is 0.04713383653016534\n",
      "The r2 score at r state 50 is 0.5615143215829466\n",
      "The r2 score at r state 51 is -0.9197027608859749\n",
      "The r2 score at r state 52 is -0.5650484829706908\n",
      "The r2 score at r state 53 is -0.8137566649854451\n",
      "The r2 score at r state 54 is -0.8861477588927649\n",
      "The r2 score at r state 55 is 0.6403098133553169\n",
      "The r2 score at r state 56 is 0.709012853642195\n",
      "The r2 score at r state 57 is 0.8077470502403785\n",
      "The r2 score at r state 58 is 0.07136489335713836\n",
      "The r2 score at r state 59 is 0.44856284335473484\n",
      "The r2 score at r state 60 is 0.7097569380345601\n",
      "The r2 score at r state 61 is -1.390793687596806\n",
      "The r2 score at r state 62 is 0.7297736271019248\n",
      "The r2 score at r state 63 is 0.6700060963468093\n",
      "The r2 score at r state 64 is 0.42131481575372653\n",
      "The r2 score at r state 65 is 0.64064665003562\n",
      "The r2 score at r state 66 is 0.6963520985167344\n",
      "The r2 score at r state 67 is 0.6104701041803628\n",
      "The r2 score at r state 68 is -2.265977912897833\n",
      "The r2 score at r state 69 is 0.5206232943666693\n",
      "The r2 score at r state 70 is 0.6496442928572252\n",
      "The r2 score at r state 71 is 0.7350142964711834\n",
      "The r2 score at r state 72 is 0.36175434469910306\n",
      "The r2 score at r state 73 is 0.1300103216939057\n",
      "The r2 score at r state 74 is 0.7155876481074336\n",
      "The r2 score at r state 75 is 0.5108467414551422\n",
      "The r2 score at r state 76 is 0.6512491641360603\n",
      "The r2 score at r state 77 is 0.4802874197799355\n",
      "The r2 score at r state 78 is 0.5702596120608383\n",
      "The r2 score at r state 79 is 0.5516740517267289\n",
      "The r2 score at r state 80 is 0.6056557088573251\n",
      "The r2 score at r state 81 is 0.5459915865580857\n",
      "The r2 score at r state 82 is 0.6812358448378981\n",
      "The r2 score at r state 83 is 0.5287019767067977\n",
      "The r2 score at r state 84 is 0.34366329914020566\n",
      "The r2 score at r state 85 is 0.7299397022368701\n",
      "The r2 score at r state 86 is -0.14968288361214555\n",
      "The r2 score at r state 87 is -0.24065811060683306\n",
      "The r2 score at r state 88 is 0.6833784506099235\n",
      "The r2 score at r state 89 is 0.42026288965585545\n",
      "The r2 score at r state 90 is 0.7318905816563133\n",
      "The r2 score at r state 91 is 0.6424335831209931\n",
      "The r2 score at r state 92 is 0.6840058126883642\n",
      "The r2 score at r state 93 is 0.7517184749184482\n",
      "The r2 score at r state 94 is 0.6524523490958131\n",
      "The r2 score at r state 95 is 0.6235368934288765\n",
      "The r2 score at r state 96 is 0.714810952183168\n",
      "The r2 score at r state 97 is -0.649061961351838\n",
      "The r2 score at r state 98 is 0.7142619066941887\n",
      "The r2 score at r state 99 is 0.07462308886580882\n",
      "The max r2 score 0.9050204148392342 is achieved at r_state 43\n"
     ]
    }
   ],
   "source": [
    "#Let use Linear Regression and check max r2 score corresponding to different random states\n",
    "from sklearn.linear_model import LinearRegression\n",
    "lr=LinearRegression()\n",
    "r_state=maxr2_score(lr,x,y)"
   ]
  },
  {
   "cell_type": "code",
   "execution_count": 76,
   "metadata": {},
   "outputs": [
    {
     "name": "stdout",
     "output_type": "stream",
     "text": [
      "Predicted Result : [[-0.52406524]\n",
      " [-0.22897943]\n",
      " [ 0.83413027]\n",
      " [ 0.74821835]\n",
      " [-0.52616557]\n",
      " [-0.51959529]\n",
      " [-0.85974742]\n",
      " [ 0.08772377]\n",
      " [-0.60887451]\n",
      " [ 0.53599545]]\n",
      "Actual :            0\n",
      "6  -0.512460\n",
      "34 -0.592368\n",
      "32  0.624636\n",
      "13  0.612899\n",
      "14 -0.371329\n",
      "33 -0.653879\n",
      "18 -0.669257\n",
      "39  0.253412\n",
      "22 -0.477106\n",
      "5   0.699800\n"
     ]
    }
   ],
   "source": [
    "pred=lr.predict(test_x)\n",
    "print(\"Predicted Result :\",pred)\n",
    "print(\"Actual :\",test_y)"
   ]
  },
  {
   "cell_type": "code",
   "execution_count": 77,
   "metadata": {},
   "outputs": [
    {
     "name": "stdout",
     "output_type": "stream",
     "text": [
      "error\n",
      "Mean Absolute Error: 0.1660679587669856\n",
      "Mean Squared Error: 0.034432568562514934\n",
      " Root Mean Squared Error: 0.18556014809897878\n"
     ]
    }
   ],
   "source": [
    "print(\"error\")\n",
    "print(\"Mean Absolute Error:\",mean_absolute_error(test_y,pred))\n",
    "print(\"Mean Squared Error:\",mean_squared_error(test_y,pred))\n",
    "print(\" Root Mean Squared Error:\",np.sqrt(mean_squared_error(test_y,pred)))"
   ]
  },
  {
   "cell_type": "markdown",
   "metadata": {},
   "source": [
    "We need to check if other algorithms show better result. To check the same, we need to select the best parameters for the algorithms by using GridSearch"
   ]
  },
  {
   "cell_type": "code",
   "execution_count": 78,
   "metadata": {},
   "outputs": [],
   "source": [
    "#Importing necessary libraries\n",
    "from sklearn.model_selection import GridSearchCV\n",
    "from sklearn.neighbors import KNeighborsRegressor\n",
    "from sklearn.svm import SVR\n",
    "from sklearn.tree import DecisionTreeRegressor\n",
    "from sklearn.model_selection import cross_val_score\n"
   ]
  },
  {
   "cell_type": "code",
   "execution_count": 79,
   "metadata": {},
   "outputs": [
    {
     "data": {
      "text/plain": [
       "{'C': 1, 'kernel': 'rbf'}"
      ]
     },
     "execution_count": 79,
     "metadata": {},
     "output_type": "execute_result"
    }
   ],
   "source": [
    "#Checking gridsearch for different algorithms\n",
    "sr=SVR()\n",
    "parameters={'kernel':('linear','rbf'), 'C':[1,10]}\n",
    "gdsr=GridSearchCV(sr,parameters)\n",
    "gdsr.fit(train_x,train_y)\n",
    "gdsr.best_params_"
   ]
  },
  {
   "cell_type": "code",
   "execution_count": 80,
   "metadata": {},
   "outputs": [
    {
     "data": {
      "text/plain": [
       "{'n_neighbors': 10}"
      ]
     },
     "execution_count": 80,
     "metadata": {},
     "output_type": "execute_result"
    }
   ],
   "source": [
    "knn=KNeighborsRegressor()\n",
    "parameters={'n_neighbors':(1,10)}\n",
    "gdk=GridSearchCV(knn,parameters)\n",
    "gdk.fit(train_x,train_y)\n",
    "gdk.best_params_"
   ]
  },
  {
   "cell_type": "code",
   "execution_count": 81,
   "metadata": {},
   "outputs": [
    {
     "name": "stdout",
     "output_type": "stream",
     "text": [
      "LinearRegression(copy_X=True, fit_intercept=True, n_jobs=None, normalize=False)\n",
      "R2 score 0.9050204148392342\n",
      "The CV Score is -0.21312651941945834\n",
      "Mean Squared Error is 0.029029387629922777\n",
      "Root Mean Squared Error is:  0.17038012686320778\n",
      "Mean Absolute Error is:  0.1236717884051162\n",
      "\n",
      "\n",
      "SVR(C=10, cache_size=200, coef0=0.0, degree=3, epsilon=0.1, gamma='scale',\n",
      "    kernel='linear', max_iter=-1, shrinking=True, tol=0.001, verbose=False)\n",
      "R2 score 0.7995194694040741\n",
      "The CV Score is 0.5167105997450676\n",
      "Mean Squared Error is 0.061274504674566424\n",
      "Root Mean Squared Error is:  0.24753687538337885\n",
      "Mean Absolute Error is:  0.21241050917209536\n",
      "\n",
      "\n",
      "DecisionTreeRegressor(ccp_alpha=0.0, criterion='mse', max_depth=None,\n",
      "                      max_features=None, max_leaf_nodes=None,\n",
      "                      min_impurity_decrease=0.0, min_impurity_split=None,\n",
      "                      min_samples_leaf=1, min_samples_split=2,\n",
      "                      min_weight_fraction_leaf=0.0, presort='deprecated',\n",
      "                      random_state=None, splitter='best')\n",
      "R2 score 0.8656261380885508\n",
      "The CV Score is 0.7277937585623827\n",
      "Mean Squared Error is 0.04106978271335423\n",
      "Root Mean Squared Error is:  0.2026568101825207\n",
      "Mean Absolute Error is:  0.136560771871516\n",
      "\n",
      "\n",
      "KNeighborsRegressor(algorithm='auto', leaf_size=30, metric='minkowski',\n",
      "                    metric_params=None, n_jobs=None, n_neighbors=10, p=2,\n",
      "                    weights='uniform')\n",
      "R2 score 0.7205710145787981\n",
      "The CV Score is 0.5520597525513355\n",
      "Mean Squared Error is 0.08540416679119034\n",
      "Root Mean Squared Error is:  0.29223991307004993\n",
      "Mean Absolute Error is:  0.2679544052970691\n",
      "\n",
      "\n"
     ]
    }
   ],
   "source": [
    "# checking the model and its metrics by running a set of codes.\n",
    "score=[]\n",
    "cv=[]\n",
    "MSE=[]\n",
    "RMSE=[]\n",
    "MAE=[]\n",
    "\n",
    "\n",
    "algorithm=[LinearRegression(),SVR(C= 10, kernel= 'linear'),DecisionTreeRegressor(),KNeighborsRegressor(n_neighbors=10)]\n",
    "for i in algorithm:\n",
    "    l=i\n",
    "    print(l)\n",
    "    l.fit(train_x,train_y)\n",
    "    pred=l.predict(test_x)\n",
    "    r2score=r2_score(test_y,pred)\n",
    "    print(\"R2 score\", r2score)\n",
    "    score.append(r2score)\n",
    "    crossscore=cross_val_score(l,x,y,cv=5,scoring='r2').mean()\n",
    "    print(\"The CV Score is\", crossscore)\n",
    "    cv.append(crossscore)\n",
    "    mean_sqrd_error=mean_squared_error(test_y,pred)\n",
    "    MSE.append(mean_sqrd_error)\n",
    "    print(\"Mean Squared Error is\", mean_sqrd_error )\n",
    "    rootMSE=np.sqrt(mean_sqrd_error)\n",
    "    RMSE.append(rootMSE)\n",
    "    print(\"Root Mean Squared Error is: \",rootMSE)\n",
    "    Meanabserror=mean_absolute_error(test_y,pred)\n",
    "    MAE.append(Meanabserror)\n",
    "    print(\"Mean Absolute Error is: \", Meanabserror)\n",
    "    print(\"\\n\")"
   ]
  },
  {
   "cell_type": "code",
   "execution_count": 82,
   "metadata": {},
   "outputs": [
    {
     "data": {
      "text/html": [
       "<div>\n",
       "<style scoped>\n",
       "    .dataframe tbody tr th:only-of-type {\n",
       "        vertical-align: middle;\n",
       "    }\n",
       "\n",
       "    .dataframe tbody tr th {\n",
       "        vertical-align: top;\n",
       "    }\n",
       "\n",
       "    .dataframe thead th {\n",
       "        text-align: right;\n",
       "    }\n",
       "</style>\n",
       "<table border=\"1\" class=\"dataframe\">\n",
       "  <thead>\n",
       "    <tr style=\"text-align: right;\">\n",
       "      <th></th>\n",
       "      <th>Model</th>\n",
       "      <th>R2score</th>\n",
       "      <th>Cross_val_score</th>\n",
       "      <th>Mean Squared Error</th>\n",
       "      <th>Root Mean Squared Error</th>\n",
       "      <th>Mean Absolute Error</th>\n",
       "    </tr>\n",
       "  </thead>\n",
       "  <tbody>\n",
       "    <tr>\n",
       "      <th>0</th>\n",
       "      <td>LinearRegression</td>\n",
       "      <td>0.905020</td>\n",
       "      <td>-0.213127</td>\n",
       "      <td>0.029029</td>\n",
       "      <td>0.170380</td>\n",
       "      <td>0.123672</td>\n",
       "    </tr>\n",
       "    <tr>\n",
       "      <th>1</th>\n",
       "      <td>SVR</td>\n",
       "      <td>0.799519</td>\n",
       "      <td>0.516711</td>\n",
       "      <td>0.061275</td>\n",
       "      <td>0.247537</td>\n",
       "      <td>0.212411</td>\n",
       "    </tr>\n",
       "    <tr>\n",
       "      <th>2</th>\n",
       "      <td>DecisionTreeRegressor</td>\n",
       "      <td>0.865626</td>\n",
       "      <td>0.727794</td>\n",
       "      <td>0.041070</td>\n",
       "      <td>0.202657</td>\n",
       "      <td>0.136561</td>\n",
       "    </tr>\n",
       "    <tr>\n",
       "      <th>3</th>\n",
       "      <td>KNeighborsRegressor</td>\n",
       "      <td>0.720571</td>\n",
       "      <td>0.552060</td>\n",
       "      <td>0.085404</td>\n",
       "      <td>0.292240</td>\n",
       "      <td>0.267954</td>\n",
       "    </tr>\n",
       "  </tbody>\n",
       "</table>\n",
       "</div>"
      ],
      "text/plain": [
       "                   Model   R2score  Cross_val_score  Mean Squared Error  \\\n",
       "0       LinearRegression  0.905020        -0.213127            0.029029   \n",
       "1                    SVR  0.799519         0.516711            0.061275   \n",
       "2  DecisionTreeRegressor  0.865626         0.727794            0.041070   \n",
       "3    KNeighborsRegressor  0.720571         0.552060            0.085404   \n",
       "\n",
       "   Root Mean Squared Error  Mean Absolute Error  \n",
       "0                 0.170380             0.123672  \n",
       "1                 0.247537             0.212411  \n",
       "2                 0.202657             0.136561  \n",
       "3                 0.292240             0.267954  "
      ]
     },
     "execution_count": 82,
     "metadata": {},
     "output_type": "execute_result"
    }
   ],
   "source": [
    "result=pd.DataFrame({'Model':['LinearRegression','SVR','DecisionTreeRegressor','KNeighborsRegressor'],'R2score':score,'Cross_val_score':cv,'Mean Squared Error':MSE, 'Root Mean Squared Error': RMSE, 'Mean Absolute Error':MAE})\n",
    "result"
   ]
  },
  {
   "cell_type": "code",
   "execution_count": 83,
   "metadata": {},
   "outputs": [
    {
     "data": {
      "text/plain": [
       "{'alpha': 0.1}"
      ]
     },
     "execution_count": 83,
     "metadata": {},
     "output_type": "execute_result"
    }
   ],
   "source": [
    "#Since the models are not giving better scores, we can try Lasso\n",
    "from sklearn.linear_model import Lasso\n",
    "lsreg=Lasso()\n",
    "parameters={\"alpha\":[0.001,0.01,0.1,1]}\n",
    "clf=GridSearchCV(lsreg,parameters,cv=10)\n",
    "clf.fit(x,y)\n",
    "clf.best_params_"
   ]
  },
  {
   "cell_type": "code",
   "execution_count": 84,
   "metadata": {},
   "outputs": [
    {
     "name": "stdout",
     "output_type": "stream",
     "text": [
      "The r2 score at r state 42 is 0.5735924426333747\n",
      "The r2 score at r state 43 is 0.9426890374292185\n",
      "The r2 score at r state 44 is -0.4246331119837552\n",
      "The r2 score at r state 45 is 0.7678072129939577\n",
      "The r2 score at r state 46 is 0.4033541971541994\n",
      "The r2 score at r state 47 is 0.7039443478470323\n",
      "The r2 score at r state 48 is 0.3991196648548502\n",
      "The r2 score at r state 49 is 0.07716143569873246\n",
      "The r2 score at r state 50 is 0.7262310091619846\n",
      "The r2 score at r state 51 is -0.4830917735508915\n",
      "The r2 score at r state 52 is 0.09835898394917664\n",
      "The r2 score at r state 53 is -0.22161422225476057\n",
      "The r2 score at r state 54 is -0.2693290783516751\n",
      "The r2 score at r state 55 is 0.7539397643707456\n",
      "The r2 score at r state 56 is 0.7208965585855598\n",
      "The r2 score at r state 57 is 0.8445346063196515\n",
      "The r2 score at r state 58 is 0.16763125084877928\n",
      "The r2 score at r state 59 is 0.5292576750118296\n",
      "The r2 score at r state 60 is 0.6903587331066856\n",
      "The r2 score at r state 61 is -0.13446373379703624\n",
      "The r2 score at r state 62 is 0.7105737410632366\n",
      "The r2 score at r state 63 is 0.6869525456680801\n",
      "The r2 score at r state 64 is 0.551372412950017\n",
      "The r2 score at r state 65 is 0.6290900968487996\n",
      "The r2 score at r state 66 is 0.7598200646316134\n",
      "The r2 score at r state 67 is 0.6166523302524154\n",
      "The r2 score at r state 68 is -1.0942862574831258\n",
      "The r2 score at r state 69 is 0.5430571810333169\n",
      "The r2 score at r state 70 is 0.6248381742226672\n",
      "The r2 score at r state 71 is 0.7392025927161463\n",
      "The r2 score at r state 72 is 0.34893556968534223\n",
      "The r2 score at r state 73 is 0.19643568004456247\n",
      "The r2 score at r state 74 is 0.6905752962000725\n",
      "The r2 score at r state 75 is 0.5650197418189898\n",
      "The r2 score at r state 76 is 0.6804382963462514\n",
      "The r2 score at r state 77 is 0.6521582242803937\n",
      "The r2 score at r state 78 is 0.6523213394770954\n",
      "The r2 score at r state 79 is 0.6639375677549917\n",
      "The r2 score at r state 80 is 0.6208309405842052\n",
      "The r2 score at r state 81 is 0.693305144752128\n",
      "The r2 score at r state 82 is 0.6776170575962842\n",
      "The r2 score at r state 83 is 0.5672212346532799\n",
      "The r2 score at r state 84 is 0.49942977885084194\n",
      "The r2 score at r state 85 is 0.8002777977147975\n",
      "The r2 score at r state 86 is 0.2312298205635418\n",
      "The r2 score at r state 87 is 0.07776677350878292\n",
      "The r2 score at r state 88 is 0.6721790806010922\n",
      "The r2 score at r state 89 is 0.41167613708292394\n",
      "The r2 score at r state 90 is 0.7489093460117434\n",
      "The r2 score at r state 91 is 0.6754446630792728\n",
      "The r2 score at r state 92 is 0.7953243541446806\n",
      "The r2 score at r state 93 is 0.7202891917977796\n",
      "The r2 score at r state 94 is 0.6632154688456962\n",
      "The r2 score at r state 95 is 0.6207832382480101\n",
      "The r2 score at r state 96 is 0.6832666545971398\n",
      "The r2 score at r state 97 is -0.31883014726061276\n",
      "The r2 score at r state 98 is 0.6714919056640407\n",
      "The r2 score at r state 99 is 0.09189713638773145\n",
      "The max r2 score 0.9426890374292185 is achieved at r_state 43\n"
     ]
    }
   ],
   "source": [
    "#Lets check max r2 score when to use\n",
    "lsreg=Lasso(alpha=0.01)\n",
    "r_state=maxr2_score(lsreg,x,y)"
   ]
  },
  {
   "cell_type": "code",
   "execution_count": 85,
   "metadata": {},
   "outputs": [
    {
     "name": "stdout",
     "output_type": "stream",
     "text": [
      "Mean r2 score for Lasso Regression: 0.338589843193948\n",
      "standard deviation in r2 score for Lasso Regression:  0.5931074502403697\n"
     ]
    }
   ],
   "source": [
    "#Lets use cross val score with Lasso\n",
    "print(\"Mean r2 score for Lasso Regression:\", cross_val_score(lsreg,x,y,cv=5,scoring='r2').mean())\n",
    "print(\"standard deviation in r2 score for Lasso Regression: \", cross_val_score(lsreg,x,y,cv=5,scoring='r2').std())"
   ]
  },
  {
   "cell_type": "code",
   "execution_count": 86,
   "metadata": {},
   "outputs": [
    {
     "name": "stdout",
     "output_type": "stream",
     "text": [
      "error\n",
      "Mean Absolute Error: 0.16797061665351673\n",
      "Mean Squared Error: 0.033701469170360945\n",
      " Root Mean Squared Error: 0.18357959900370452\n"
     ]
    }
   ],
   "source": [
    "pred=lsreg.predict(test_x)\n",
    "print(\"error\")\n",
    "print(\"Mean Absolute Error:\",mean_absolute_error(test_y,pred))\n",
    "print(\"Mean Squared Error:\",mean_squared_error(test_y,pred))\n",
    "print(\" Root Mean Squared Error:\",np.sqrt(mean_squared_error(test_y,pred)))"
   ]
  },
  {
   "cell_type": "code",
   "execution_count": 87,
   "metadata": {},
   "outputs": [
    {
     "data": {
      "text/plain": [
       "{'learning_rate': 0.1, 'n_estimators': 100}"
      ]
     },
     "execution_count": 87,
     "metadata": {},
     "output_type": "execute_result"
    }
   ],
   "source": [
    "#Now we will have to use gradient boosting technique\n",
    "#for getting best parameters we need to use grid search\n",
    "from sklearn.ensemble import GradientBoostingRegressor\n",
    "gbr=GradientBoostingRegressor()\n",
    "parameters={\"learning_rate\":[0.001,0.01,0.1,1],\"n_estimators\":[10,100,500,1000]}\n",
    "clf=GridSearchCV(gbr,parameters,cv=5)\n",
    "clf.fit(x,y)\n",
    "clf.best_params_"
   ]
  },
  {
   "cell_type": "code",
   "execution_count": 88,
   "metadata": {},
   "outputs": [
    {
     "name": "stdout",
     "output_type": "stream",
     "text": [
      "Mean r2 score for Gradient boosting Regression: 0.7945105815872708\n",
      "standard deviation in r2 score for Gradient boosting Regression:  0.12625487489303772\n"
     ]
    }
   ],
   "source": [
    "#Now we will use cross val score to check the mean r2 score and standard deviation\n",
    "gbr=GradientBoostingRegressor(learning_rate=0.01,n_estimators=1000)\n",
    "print(\"Mean r2 score for Gradient boosting Regression:\", cross_val_score(gbr,x,y,cv=5,scoring='r2').mean())\n",
    "print(\"standard deviation in r2 score for Gradient boosting Regression: \", cross_val_score(gbr,x,y,cv=5,scoring='r2').std())"
   ]
  },
  {
   "cell_type": "code",
   "execution_count": 89,
   "metadata": {},
   "outputs": [
    {
     "name": "stdout",
     "output_type": "stream",
     "text": [
      "The r2 score at r state 42 is 0.8888869943600418\n",
      "The r2 score at r state 43 is 0.8452412714374383\n",
      "The r2 score at r state 44 is 0.641581053736322\n",
      "The r2 score at r state 45 is 0.9818899848606567\n",
      "The r2 score at r state 46 is 0.9070807633214643\n",
      "The r2 score at r state 47 is 0.9310137475942126\n",
      "The r2 score at r state 48 is 0.9438365657077175\n",
      "The r2 score at r state 49 is 0.7456994415545566\n",
      "The r2 score at r state 50 is 0.9700669071901987\n",
      "The r2 score at r state 51 is 0.7131160428376568\n",
      "The r2 score at r state 52 is 0.5866438000271667\n",
      "The r2 score at r state 53 is 0.8206069128030282\n",
      "The r2 score at r state 54 is -0.6280995754319301\n",
      "The r2 score at r state 55 is 0.8599143079177768\n",
      "The r2 score at r state 56 is 0.7899760546230907\n",
      "The r2 score at r state 57 is 0.9813318859303162\n",
      "The r2 score at r state 58 is 0.9118820408648913\n",
      "The r2 score at r state 59 is 0.4721070763826204\n",
      "The r2 score at r state 60 is 0.9249708716082262\n",
      "The r2 score at r state 61 is -2.7297239989058384\n",
      "The r2 score at r state 62 is 0.8103745789675744\n",
      "The r2 score at r state 63 is 0.9924212213112608\n",
      "The r2 score at r state 64 is 0.5143766970953042\n",
      "The r2 score at r state 65 is 0.23925258179549702\n",
      "The r2 score at r state 66 is 0.34845663060182486\n",
      "The r2 score at r state 67 is 0.9912691356086334\n",
      "The r2 score at r state 68 is 0.6559133913863948\n",
      "The r2 score at r state 69 is 0.637902895777699\n",
      "The r2 score at r state 70 is 0.02270398960511044\n",
      "The r2 score at r state 71 is 0.5208136640030443\n",
      "The r2 score at r state 72 is 0.9175504789759871\n",
      "The r2 score at r state 73 is 0.8727624015811959\n",
      "The r2 score at r state 74 is 0.9241593299126961\n",
      "The r2 score at r state 75 is 0.3076038077038439\n",
      "The r2 score at r state 76 is 0.5446345586288381\n",
      "The r2 score at r state 77 is 0.48737301531027866\n",
      "The r2 score at r state 78 is 0.56449535359578\n",
      "The r2 score at r state 79 is 0.9607701165510217\n",
      "The r2 score at r state 80 is 0.537577553616542\n",
      "The r2 score at r state 81 is 0.9382181395604917\n",
      "The r2 score at r state 82 is 0.8202186137276372\n",
      "The r2 score at r state 83 is 0.5619019071888689\n",
      "The r2 score at r state 84 is -0.185199012169746\n",
      "The r2 score at r state 85 is 0.7590312052559622\n",
      "The r2 score at r state 86 is -0.141281475135008\n",
      "The r2 score at r state 87 is 0.9231650039461496\n",
      "The r2 score at r state 88 is 0.22995110781207162\n",
      "The r2 score at r state 89 is 0.17383189955625145\n",
      "The r2 score at r state 90 is 0.9290257520672799\n",
      "The r2 score at r state 91 is 0.8625786002885389\n",
      "The r2 score at r state 92 is 0.9537501574508883\n",
      "The r2 score at r state 93 is 0.8147525436083177\n",
      "The r2 score at r state 94 is 0.8893647951115133\n",
      "The r2 score at r state 95 is 0.5680322490519976\n",
      "The r2 score at r state 96 is 0.5347953089115949\n",
      "The r2 score at r state 97 is 0.9205846104406565\n",
      "The r2 score at r state 98 is 0.8370401816001755\n",
      "The r2 score at r state 99 is 0.2640491011609155\n",
      "The max r2 score 0.9924212213112608 is achieved at r_state 63\n"
     ]
    }
   ],
   "source": [
    "# Lets check the maximum r2 score corresponding to this\n",
    "r_state=maxr2_score(gbr,x,y)"
   ]
  },
  {
   "cell_type": "code",
   "execution_count": 90,
   "metadata": {},
   "outputs": [
    {
     "data": {
      "text/plain": [
       "{'base_estimator': DecisionTreeRegressor(ccp_alpha=0.0, criterion='mse', max_depth=None,\n",
       "                       max_features=None, max_leaf_nodes=None,\n",
       "                       min_impurity_decrease=0.0, min_impurity_split=None,\n",
       "                       min_samples_leaf=1, min_samples_split=2,\n",
       "                       min_weight_fraction_leaf=0.0, presort='deprecated',\n",
       "                       random_state=None, splitter='best'),\n",
       " 'learning_rate': 0.01,\n",
       " 'n_estimators': 1000}"
      ]
     },
     "execution_count": 90,
     "metadata": {},
     "output_type": "execute_result"
    }
   ],
   "source": [
    "#Now we will have to use Adaboost Regression Algorithm \n",
    "from sklearn.ensemble import AdaBoostRegressor\n",
    "from sklearn.tree import DecisionTreeRegressor\n",
    "dt=DecisionTreeRegressor()\n",
    "ada_reg=AdaBoostRegressor()\n",
    "parameters={\"learning_rate\":[0.001,0.01,0.1,1],\"n_estimators\":[10,100,500,1000],\"base_estimator\":[lr,lsreg,dt]}\n",
    "clf=GridSearchCV(ada_reg,parameters,cv=5)\n",
    "clf.fit(x,y)\n",
    "clf.best_params_"
   ]
  },
  {
   "cell_type": "code",
   "execution_count": 91,
   "metadata": {},
   "outputs": [
    {
     "name": "stdout",
     "output_type": "stream",
     "text": [
      "Mean r2 score for Ada boosting Regression: 0.7542728172095199\n",
      "standard deviation in r2 score for Ada boosting Regression:  0.1656003988750828\n"
     ]
    }
   ],
   "source": [
    "#Now we will use cross val score to check the mean r2 score and standard deviation\n",
    "ada_reg=AdaBoostRegressor(base_estimator= dt,learning_rate=0.001,n_estimators=500)\n",
    "print(\"Mean r2 score for Ada boosting Regression:\", cross_val_score(ada_reg,x,y,cv=5,scoring='r2').mean())\n",
    "print(\"standard deviation in r2 score for Ada boosting Regression: \", cross_val_score(ada_reg,x,y,cv=5,scoring='r2').std())"
   ]
  },
  {
   "cell_type": "code",
   "execution_count": 92,
   "metadata": {},
   "outputs": [
    {
     "name": "stdout",
     "output_type": "stream",
     "text": [
      "The r2 score at r state 42 is 0.7904714290228133\n",
      "The r2 score at r state 43 is 0.8642098708051913\n",
      "The r2 score at r state 44 is 0.600628353414602\n",
      "The r2 score at r state 45 is 0.9563515737509114\n",
      "The r2 score at r state 46 is 0.8890556099142323\n",
      "The r2 score at r state 47 is 0.857010654979912\n",
      "The r2 score at r state 48 is 0.9171582780178199\n",
      "The r2 score at r state 49 is 0.636561876656387\n",
      "The r2 score at r state 50 is 0.9313944728511511\n",
      "The r2 score at r state 51 is 0.5790509860304915\n",
      "The r2 score at r state 52 is 0.05240524997802143\n",
      "The r2 score at r state 53 is 0.7855131640602879\n",
      "The r2 score at r state 54 is -0.057353113383956655\n",
      "The r2 score at r state 55 is 0.8477073215071026\n",
      "The r2 score at r state 56 is 0.7237207595424491\n",
      "The r2 score at r state 57 is 0.8919178898356763\n",
      "The r2 score at r state 58 is 0.858846182465606\n",
      "The r2 score at r state 59 is 0.46826525332265967\n",
      "The r2 score at r state 60 is 0.8601159830291809\n",
      "The r2 score at r state 61 is -2.7513618840094844\n",
      "The r2 score at r state 62 is 0.6944749614728379\n",
      "The r2 score at r state 63 is 0.966770580003961\n",
      "The r2 score at r state 64 is 0.47722866586369417\n",
      "The r2 score at r state 65 is 0.1834093763782264\n",
      "The r2 score at r state 66 is 0.41587274405478303\n",
      "The r2 score at r state 67 is 0.9647164627717479\n",
      "The r2 score at r state 68 is 0.6769084700854118\n",
      "The r2 score at r state 69 is 0.14303062155464719\n",
      "The r2 score at r state 70 is 0.1551724628173804\n",
      "The r2 score at r state 71 is 0.40250360473514757\n",
      "The r2 score at r state 72 is 0.8943383016670495\n",
      "The r2 score at r state 73 is 0.8478242672456068\n",
      "The r2 score at r state 74 is 0.8304862295070515\n",
      "The r2 score at r state 75 is 0.32761547925876233\n",
      "The r2 score at r state 76 is 0.5096580705005438\n",
      "The r2 score at r state 77 is 0.4067322889092815\n",
      "The r2 score at r state 78 is 0.5058329429958891\n",
      "The r2 score at r state 79 is 0.9286480910486721\n",
      "The r2 score at r state 80 is 0.5669133353070803\n",
      "The r2 score at r state 81 is 0.9500494226609089\n",
      "The r2 score at r state 82 is 0.8135746327832958\n",
      "The r2 score at r state 83 is 0.3210429652618749\n",
      "The r2 score at r state 84 is 0.3487740903068651\n",
      "The r2 score at r state 85 is 0.6497813838066129\n",
      "The r2 score at r state 86 is -0.07957038916135661\n",
      "The r2 score at r state 87 is 0.9358106401163191\n",
      "The r2 score at r state 88 is 0.5655010381075017\n",
      "The r2 score at r state 89 is 0.18738657095966138\n",
      "The r2 score at r state 90 is 0.937063898662795\n",
      "The r2 score at r state 91 is 0.757033562224432\n",
      "The r2 score at r state 92 is 0.9242987125509106\n",
      "The r2 score at r state 93 is 0.7413798147669342\n",
      "The r2 score at r state 94 is 0.7904099111399641\n",
      "The r2 score at r state 95 is 0.4705189137040674\n",
      "The r2 score at r state 96 is 0.434729146276573\n",
      "The r2 score at r state 97 is 0.8300618299456385\n",
      "The r2 score at r state 98 is 0.8119550450407527\n",
      "The r2 score at r state 99 is -0.4389552946995723\n",
      "The max r2 score 0.966770580003961 is achieved at r_state 63\n"
     ]
    }
   ],
   "source": [
    "# Lets check the maximum r2 score corresponding to this\n",
    "r_state=maxr2_score(ada_reg,x,y)"
   ]
  },
  {
   "cell_type": "code",
   "execution_count": 93,
   "metadata": {},
   "outputs": [
    {
     "name": "stdout",
     "output_type": "stream",
     "text": [
      "0.8471597742405457\n"
     ]
    }
   ],
   "source": [
    "#After trying all above let us finalise the model. GradientBoost Regressor is providing the highest R2 score at 67%\n",
    "gbr=GradientBoostingRegressor(learning_rate=0.01,n_estimators=500)\n",
    "gbr.fit(train_x,train_y)\n",
    "pred=gbr.predict(test_x)\n",
    "r2score=r2_score(test_y,pred)\n",
    "print(r2score)\n"
   ]
  },
  {
   "cell_type": "code",
   "execution_count": 94,
   "metadata": {},
   "outputs": [
    {
     "data": {
      "text/plain": [
       "['USA_COVID_!.pkl']"
      ]
     },
     "execution_count": 94,
     "metadata": {},
     "output_type": "execute_result"
    }
   ],
   "source": [
    "#lets save the final model\n",
    "from sklearn.externals import joblib\n",
    "\n",
    "#save the model as pickle in a file\n",
    "joblib.dump(gbr,'USA_COVID_!.pkl')"
   ]
  }
 ],
 "metadata": {
  "kernelspec": {
   "display_name": "Python 3",
   "language": "python",
   "name": "python3"
  },
  "language_info": {
   "codemirror_mode": {
    "name": "ipython",
    "version": 3
   },
   "file_extension": ".py",
   "mimetype": "text/x-python",
   "name": "python",
   "nbconvert_exporter": "python",
   "pygments_lexer": "ipython3",
   "version": "3.7.6"
  }
 },
 "nbformat": 4,
 "nbformat_minor": 4
}
